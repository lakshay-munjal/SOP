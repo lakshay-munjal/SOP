{
 "metadata": {
  "language_info": {
   "codemirror_mode": {
    "name": "ipython",
    "version": 3
   },
   "file_extension": ".py",
   "mimetype": "text/x-python",
   "name": "python",
   "nbconvert_exporter": "python",
   "pygments_lexer": "ipython3",
   "version": "3.8.5"
  },
  "orig_nbformat": 2,
  "kernelspec": {
   "name": "python385jvsc74a57bd0690558a352076bea257667e4a3840a9949b167d4e82d85b564fb3243fa6eb52b",
   "display_name": "Python 3.8.5 64-bit ('sopenv': conda)"
  }
 },
 "nbformat": 4,
 "nbformat_minor": 2,
 "cells": [
  {
   "cell_type": "code",
   "execution_count": 1,
   "metadata": {},
   "outputs": [],
   "source": [
    "import torch\n",
    "import torch.nn as nn\n",
    "import numpy as np\n",
    "import pandas as pd"
   ]
  },
  {
   "cell_type": "code",
   "execution_count": 2,
   "metadata": {},
   "outputs": [],
   "source": [
    "if torch.cuda.is_available():  \n",
    "  dev = \"cuda:0\" \n",
    "else:  \n",
    "  dev = \"cpu\"  \n",
    "device = torch.device(dev)\n",
    "torch.use_deterministic_algorithms(True)\n",
    "np.random.seed(15) # if numpy is used\n",
    "torch.manual_seed(15)\n",
    "if torch.cuda.is_available():\n",
    "    torch.cuda.manual_seed(15)"
   ]
  },
  {
   "cell_type": "code",
   "execution_count": 3,
   "metadata": {},
   "outputs": [
    {
     "output_type": "execute_result",
     "data": {
      "text/plain": [
       "            From Date     PM2.5      PM10        NO       NO2       NOx  \\\n",
       "0 2019-01-01 00:00:00  0.548004  0.837675  0.386063  0.183578  0.377457   \n",
       "1 2019-01-01 00:15:00  0.548004  0.837675  0.447938  0.177646  0.426394   \n",
       "2 2019-01-01 00:30:00  0.548004  0.837675  0.385062  0.201686  0.382471   \n",
       "3 2019-01-01 00:45:00  0.448759  0.658317  0.440328  0.196691  0.426394   \n",
       "4 2019-01-01 01:00:00  0.448759  0.658317  0.422307  0.175148  0.404332   \n",
       "\n",
       "        NH3       SO2    CO     Ozone   Benzene  \n",
       "0  0.311067  0.099945  0.59  0.008504  0.391534  \n",
       "1  0.304088  0.088901  0.60  0.011006  0.373016  \n",
       "2  0.333500  0.088349  0.52  0.011006  0.365079  \n",
       "3  0.331007  0.085036  0.54  0.011006  0.359788  \n",
       "4  0.327517  0.083932  0.50  0.011131  0.333333  "
      ],
      "text/html": "<div>\n<style scoped>\n    .dataframe tbody tr th:only-of-type {\n        vertical-align: middle;\n    }\n\n    .dataframe tbody tr th {\n        vertical-align: top;\n    }\n\n    .dataframe thead th {\n        text-align: right;\n    }\n</style>\n<table border=\"1\" class=\"dataframe\">\n  <thead>\n    <tr style=\"text-align: right;\">\n      <th></th>\n      <th>From Date</th>\n      <th>PM2.5</th>\n      <th>PM10</th>\n      <th>NO</th>\n      <th>NO2</th>\n      <th>NOx</th>\n      <th>NH3</th>\n      <th>SO2</th>\n      <th>CO</th>\n      <th>Ozone</th>\n      <th>Benzene</th>\n    </tr>\n  </thead>\n  <tbody>\n    <tr>\n      <th>0</th>\n      <td>2019-01-01 00:00:00</td>\n      <td>0.548004</td>\n      <td>0.837675</td>\n      <td>0.386063</td>\n      <td>0.183578</td>\n      <td>0.377457</td>\n      <td>0.311067</td>\n      <td>0.099945</td>\n      <td>0.59</td>\n      <td>0.008504</td>\n      <td>0.391534</td>\n    </tr>\n    <tr>\n      <th>1</th>\n      <td>2019-01-01 00:15:00</td>\n      <td>0.548004</td>\n      <td>0.837675</td>\n      <td>0.447938</td>\n      <td>0.177646</td>\n      <td>0.426394</td>\n      <td>0.304088</td>\n      <td>0.088901</td>\n      <td>0.60</td>\n      <td>0.011006</td>\n      <td>0.373016</td>\n    </tr>\n    <tr>\n      <th>2</th>\n      <td>2019-01-01 00:30:00</td>\n      <td>0.548004</td>\n      <td>0.837675</td>\n      <td>0.385062</td>\n      <td>0.201686</td>\n      <td>0.382471</td>\n      <td>0.333500</td>\n      <td>0.088349</td>\n      <td>0.52</td>\n      <td>0.011006</td>\n      <td>0.365079</td>\n    </tr>\n    <tr>\n      <th>3</th>\n      <td>2019-01-01 00:45:00</td>\n      <td>0.448759</td>\n      <td>0.658317</td>\n      <td>0.440328</td>\n      <td>0.196691</td>\n      <td>0.426394</td>\n      <td>0.331007</td>\n      <td>0.085036</td>\n      <td>0.54</td>\n      <td>0.011006</td>\n      <td>0.359788</td>\n    </tr>\n    <tr>\n      <th>4</th>\n      <td>2019-01-01 01:00:00</td>\n      <td>0.448759</td>\n      <td>0.658317</td>\n      <td>0.422307</td>\n      <td>0.175148</td>\n      <td>0.404332</td>\n      <td>0.327517</td>\n      <td>0.083932</td>\n      <td>0.50</td>\n      <td>0.011131</td>\n      <td>0.333333</td>\n    </tr>\n  </tbody>\n</table>\n</div>"
     },
     "metadata": {},
     "execution_count": 3
    }
   ],
   "source": [
    "df = pd.read_excel(\"data.xlsx\", sheet_name=\"data\")\n",
    "df.head()"
   ]
  },
  {
   "cell_type": "code",
   "execution_count": 4,
   "metadata": {},
   "outputs": [],
   "source": [
    "df = df.set_index('From Date')"
   ]
  },
  {
   "cell_type": "code",
   "execution_count": 5,
   "metadata": {},
   "outputs": [
    {
     "output_type": "execute_result",
     "data": {
      "text/plain": [
       "((52632, 10), (17544, 10))"
      ]
     },
     "metadata": {},
     "execution_count": 5
    }
   ],
   "source": [
    "test_data_size = int(df.shape[0]/4)\n",
    "train_data = df[:-test_data_size]\n",
    "test_data = df[-test_data_size:]\n",
    "train_data.shape, test_data.shape"
   ]
  },
  {
   "cell_type": "code",
   "execution_count": 6,
   "metadata": {},
   "outputs": [],
   "source": [
    "def create_inout_sequences(input_data, tw):\n",
    "    inout_seq = []\n",
    "    L = len(input_data)\n",
    "    for i in range(L-tw):\n",
    "        train_seq = input_data[i:i+tw]\n",
    "        train_label = input_data[i+tw]\n",
    "        inout_seq.append((train_seq ,train_label))\n",
    "    return inout_seq"
   ]
  },
  {
   "cell_type": "code",
   "execution_count": 7,
   "metadata": {},
   "outputs": [
    {
     "output_type": "execute_result",
     "data": {
      "text/plain": [
       "(tensor([[0.0658, 0.1263, 0.0094, 0.0952, 0.0395, 0.0962, 0.0304, 0.1000, 0.1371,\n",
       "          0.0741],\n",
       "         [0.0658, 0.1263, 0.0096, 0.0924, 0.0387, 0.0967, 0.0331, 0.1000, 0.1381,\n",
       "          0.0741],\n",
       "         [0.0658, 0.1263, 0.0098, 0.0815, 0.0351, 0.0962, 0.0387, 0.1000, 0.1381,\n",
       "          0.0794],\n",
       "         [0.0593, 0.1513, 0.0110, 0.0871, 0.0381, 0.0982, 0.0447, 0.1000, 0.1311,\n",
       "          0.0899],\n",
       "         [0.0593, 0.1513, 0.0172, 0.0871, 0.0431, 0.1017, 0.0414, 0.1100, 0.1286,\n",
       "          0.0926],\n",
       "         [0.0593, 0.1513, 0.0128, 0.0884, 0.0399, 0.1122, 0.0409, 0.1100, 0.1576,\n",
       "          0.0952],\n",
       "         [0.0593, 0.1513, 0.0124, 0.0902, 0.0401, 0.1181, 0.0375, 0.1100, 0.1746,\n",
       "          0.1111],\n",
       "         [0.0626, 0.1503, 0.0118, 0.0974, 0.0423, 0.1181, 0.0375, 0.1100, 0.1896,\n",
       "          0.1164],\n",
       "         [0.0626, 0.1503, 0.0174, 0.1140, 0.0525, 0.1171, 0.0370, 0.1200, 0.1801,\n",
       "          0.1164],\n",
       "         [0.0626, 0.1503, 0.0286, 0.1146, 0.0618, 0.1142, 0.0359, 0.1200, 0.2021,\n",
       "          0.1111],\n",
       "         [0.0626, 0.1503, 0.0116, 0.1249, 0.0515, 0.1171, 0.0370, 0.1200, 0.2571,\n",
       "          0.1190],\n",
       "         [0.0615, 0.1774, 0.0170, 0.1033, 0.0485, 0.1142, 0.0359, 0.1200, 0.2831,\n",
       "          0.1138],\n",
       "         [0.0615, 0.1774, 0.0206, 0.1283, 0.0606, 0.0967, 0.0348, 0.1200, 0.3217,\n",
       "          0.1270],\n",
       "         [0.0615, 0.1774, 0.0144, 0.1096, 0.0485, 0.1032, 0.0381, 0.1000, 0.3477,\n",
       "          0.1217],\n",
       "         [0.0615, 0.1774, 0.0092, 0.0578, 0.0265, 0.1037, 0.0364, 0.0900, 0.4057,\n",
       "          0.1138],\n",
       "         [0.0507, 0.2114, 0.0082, 0.0521, 0.0239, 0.0942, 0.0348, 0.0900, 0.4287,\n",
       "          0.0847]], device='cuda:0'),\n",
       " tensor([0.0507, 0.2114, 0.0062, 0.0490, 0.0211, 0.0922, 0.0364, 0.1000, 0.4647,\n",
       "         0.0688], device='cuda:0'))"
      ]
     },
     "metadata": {},
     "execution_count": 7
    }
   ],
   "source": [
    "test_data_tensor = torch.FloatTensor(test_data.values).view(-1,10).to(device)\n",
    "\n",
    "test_inout_seq = create_inout_sequences(test_data_tensor, 16)\n",
    "test_inout_seq[0]\n"
   ]
  },
  {
   "cell_type": "code",
   "execution_count": 8,
   "metadata": {},
   "outputs": [
    {
     "output_type": "execute_result",
     "data": {
      "text/plain": [
       "tensor([[0.0658, 0.1263, 0.0094, 0.0952, 0.0395, 0.0962, 0.0304, 0.1000, 0.1371,\n",
       "         0.0741],\n",
       "        [0.0658, 0.1263, 0.0096, 0.0924, 0.0387, 0.0967, 0.0331, 0.1000, 0.1381,\n",
       "         0.0741],\n",
       "        [0.0658, 0.1263, 0.0098, 0.0815, 0.0351, 0.0962, 0.0387, 0.1000, 0.1381,\n",
       "         0.0794],\n",
       "        [0.0593, 0.1513, 0.0110, 0.0871, 0.0381, 0.0982, 0.0447, 0.1000, 0.1311,\n",
       "         0.0899],\n",
       "        [0.0593, 0.1513, 0.0172, 0.0871, 0.0431, 0.1017, 0.0414, 0.1100, 0.1286,\n",
       "         0.0926],\n",
       "        [0.0593, 0.1513, 0.0128, 0.0884, 0.0399, 0.1122, 0.0409, 0.1100, 0.1576,\n",
       "         0.0952],\n",
       "        [0.0593, 0.1513, 0.0124, 0.0902, 0.0401, 0.1181, 0.0375, 0.1100, 0.1746,\n",
       "         0.1111],\n",
       "        [0.0626, 0.1503, 0.0118, 0.0974, 0.0423, 0.1181, 0.0375, 0.1100, 0.1896,\n",
       "         0.1164],\n",
       "        [0.0626, 0.1503, 0.0174, 0.1140, 0.0525, 0.1171, 0.0370, 0.1200, 0.1801,\n",
       "         0.1164],\n",
       "        [0.0626, 0.1503, 0.0286, 0.1146, 0.0618, 0.1142, 0.0359, 0.1200, 0.2021,\n",
       "         0.1111],\n",
       "        [0.0626, 0.1503, 0.0116, 0.1249, 0.0515, 0.1171, 0.0370, 0.1200, 0.2571,\n",
       "         0.1190],\n",
       "        [0.0615, 0.1774, 0.0170, 0.1033, 0.0485, 0.1142, 0.0359, 0.1200, 0.2831,\n",
       "         0.1138],\n",
       "        [0.0615, 0.1774, 0.0206, 0.1283, 0.0606, 0.0967, 0.0348, 0.1200, 0.3217,\n",
       "         0.1270],\n",
       "        [0.0615, 0.1774, 0.0144, 0.1096, 0.0485, 0.1032, 0.0381, 0.1000, 0.3477,\n",
       "         0.1217],\n",
       "        [0.0615, 0.1774, 0.0092, 0.0578, 0.0265, 0.1037, 0.0364, 0.0900, 0.4057,\n",
       "         0.1138],\n",
       "        [0.0507, 0.2114, 0.0082, 0.0521, 0.0239, 0.0942, 0.0348, 0.0900, 0.4287,\n",
       "         0.0847]], device='cuda:0')"
      ]
     },
     "metadata": {},
     "execution_count": 8
    }
   ],
   "source": [
    "test_inout_seq[0][0]"
   ]
  },
  {
   "cell_type": "code",
   "execution_count": 9,
   "metadata": {},
   "outputs": [],
   "source": [
    "class LSTM(nn.Module):\n",
    "    def __init__(self, input_size=10, hidden_layer_size=100, output_size=10):\n",
    "        super().__init__()\n",
    "        self.hidden_layer_size = hidden_layer_size\n",
    "\n",
    "        self.lstm = nn.LSTM(input_size, hidden_layer_size)\n",
    "\n",
    "        self.linear = nn.Linear(hidden_layer_size, output_size)\n",
    "\n",
    "        self.hidden_cell = (torch.zeros(1,1,self.hidden_layer_size).to(device),\n",
    "                            torch.zeros(1,1,self.hidden_layer_size).to(device))\n",
    "\n",
    "    def forward(self, input_seq):\n",
    "        lstm_out, self.hidden_cell = self.lstm(input_seq.view(len(input_seq) ,1, -1), self.hidden_cell)\n",
    "        predictions = self.linear(lstm_out.view(len(input_seq), -1))\n",
    "        return predictions[-1]"
   ]
  },
  {
   "cell_type": "code",
   "execution_count": 10,
   "metadata": {},
   "outputs": [
    {
     "output_type": "execute_result",
     "data": {
      "text/plain": [
       "LSTM(\n",
       "  (lstm): LSTM(10, 100)\n",
       "  (linear): Linear(in_features=100, out_features=10, bias=True)\n",
       ")"
      ]
     },
     "metadata": {},
     "execution_count": 10
    }
   ],
   "source": [
    "model = torch.load(\"model.pt\").to(device)\n",
    "model.eval()\n"
   ]
  },
  {
   "cell_type": "code",
   "execution_count": 11,
   "metadata": {},
   "outputs": [
    {
     "output_type": "execute_result",
     "data": {
      "text/plain": [
       "(tensor([0.0584, 0.2129, 0.0031, 0.0484, 0.0206, 0.0869, 0.0328, 0.0843, 0.4717,\n",
       "         0.0662], device='cuda:0', grad_fn=<SelectBackward>),\n",
       " tensor([0.0507, 0.2114, 0.0062, 0.0490, 0.0211, 0.0922, 0.0364, 0.1000, 0.4647,\n",
       "         0.0688], device='cuda:0'))"
      ]
     },
     "metadata": {},
     "execution_count": 11
    }
   ],
   "source": [
    "y_pred = model(test_inout_seq[0][0])\n",
    "y_pred,test_inout_seq[0][1]"
   ]
  },
  {
   "cell_type": "code",
   "execution_count": 50,
   "metadata": {},
   "outputs": [
    {
     "output_type": "execute_result",
     "data": {
      "text/plain": [
       "LSTM(\n",
       "  (lstm): LSTM(10, 100)\n",
       "  (linear): Linear(in_features=100, out_features=10, bias=True)\n",
       ")"
      ]
     },
     "metadata": {},
     "execution_count": 50
    }
   ],
   "source": [
    "model.eval()"
   ]
  },
  {
   "cell_type": "code",
   "execution_count": 19,
   "metadata": {},
   "outputs": [
    {
     "output_type": "execute_result",
     "data": {
      "text/plain": [
       "tensor([0.0507, 0.2114, 0.0062, 0.0490, 0.0211, 0.0922, 0.0364, 0.1000, 0.4647,\n",
       "        0.0688], device='cuda:0')"
      ]
     },
     "metadata": {},
     "execution_count": 19
    }
   ],
   "source": [
    "test_inout_seq[0][1]"
   ]
  },
  {
   "cell_type": "code",
   "execution_count": 45,
   "metadata": {},
   "outputs": [
    {
     "output_type": "execute_result",
     "data": {
      "text/plain": [
       "(tensor([ 0.0552,  0.1489, -0.1106,  0.0369, -0.0749,  0.1468,  0.0415,  0.0051,\n",
       "          0.5685,  0.0716], device='cuda:0'),\n",
       " tensor([0.0507, 0.2114, 0.0062, 0.0490, 0.0211, 0.0922, 0.0364, 0.1000, 0.4647,\n",
       "         0.0688], device='cuda:0'))"
      ]
     },
     "metadata": {},
     "execution_count": 45
    }
   ],
   "source": [
    "with torch.no_grad():\n",
    "    model.eval()  \n",
    "    model.hidden = (torch.zeros(1, 1, model.hidden_layer_size).to(device),torch.zeros(1, 1, model.hidden_layer_size).to(device))\n",
    "    y_pred = model(test_inout_seq[0][0])\n",
    "y_pred,test_inout_seq[0][1]"
   ]
  },
  {
   "cell_type": "code",
   "execution_count": 12,
   "metadata": {},
   "outputs": [
    {
     "output_type": "execute_result",
     "data": {
      "text/plain": [
       "(torch.Size([10]), torch.Size([10]))"
      ]
     },
     "metadata": {},
     "execution_count": 12
    }
   ],
   "source": [
    "y_pred.shape, test_inout_seq[0][1].shape"
   ]
  },
  {
   "cell_type": "code",
   "execution_count": 13,
   "metadata": {},
   "outputs": [
    {
     "output_type": "execute_result",
     "data": {
      "text/plain": [
       "0.9975537798614699"
      ]
     },
     "metadata": {},
     "execution_count": 13
    }
   ],
   "source": [
    "\n",
    "\n",
    "y_test = test_inout_seq[0][1]\n",
    "\n",
    "r2_score(y_test.cpu().detach(), y_pred.cpu().detach())"
   ]
  },
  {
   "cell_type": "code",
   "execution_count": 40,
   "metadata": {},
   "outputs": [],
   "source": [
    "y_pred_list = []\n",
    "\n",
    "with torch.no_grad():\n",
    "    model.eval()\n",
    "    for seq, _ in test_inout_seq:\n",
    "        model.hidden = (torch.zeros(1, 1, model.hidden_layer_size),torch.zeros(1, 1, model.hidden_layer_size))\n",
    "        y_test_pred = model(seq)\n",
    "        y_pred_list.append(y_test_pred.cpu().detach().numpy())\n"
   ]
  },
  {
   "cell_type": "code",
   "execution_count": 61,
   "metadata": {},
   "outputs": [
    {
     "output_type": "execute_result",
     "data": {
      "text/plain": [
       "tensor([[0.0658, 0.1263, 0.0094, 0.0952, 0.0395, 0.0962, 0.0304, 0.1000, 0.1371,\n",
       "         0.0741],\n",
       "        [0.0658, 0.1263, 0.0096, 0.0924, 0.0387, 0.0967, 0.0331, 0.1000, 0.1381,\n",
       "         0.0741],\n",
       "        [0.0658, 0.1263, 0.0098, 0.0815, 0.0351, 0.0962, 0.0387, 0.1000, 0.1381,\n",
       "         0.0794],\n",
       "        [0.0593, 0.1513, 0.0110, 0.0871, 0.0381, 0.0982, 0.0447, 0.1000, 0.1311,\n",
       "         0.0899],\n",
       "        [0.0593, 0.1513, 0.0172, 0.0871, 0.0431, 0.1017, 0.0414, 0.1100, 0.1286,\n",
       "         0.0926],\n",
       "        [0.0593, 0.1513, 0.0128, 0.0884, 0.0399, 0.1122, 0.0409, 0.1100, 0.1576,\n",
       "         0.0952],\n",
       "        [0.0593, 0.1513, 0.0124, 0.0902, 0.0401, 0.1181, 0.0375, 0.1100, 0.1746,\n",
       "         0.1111],\n",
       "        [0.0626, 0.1503, 0.0118, 0.0974, 0.0423, 0.1181, 0.0375, 0.1100, 0.1896,\n",
       "         0.1164],\n",
       "        [0.0626, 0.1503, 0.0174, 0.1140, 0.0525, 0.1171, 0.0370, 0.1200, 0.1801,\n",
       "         0.1164],\n",
       "        [0.0626, 0.1503, 0.0286, 0.1146, 0.0618, 0.1142, 0.0359, 0.1200, 0.2021,\n",
       "         0.1111],\n",
       "        [0.0626, 0.1503, 0.0116, 0.1249, 0.0515, 0.1171, 0.0370, 0.1200, 0.2571,\n",
       "         0.1190],\n",
       "        [0.0615, 0.1774, 0.0170, 0.1033, 0.0485, 0.1142, 0.0359, 0.1200, 0.2831,\n",
       "         0.1138],\n",
       "        [0.0615, 0.1774, 0.0206, 0.1283, 0.0606, 0.0967, 0.0348, 0.1200, 0.3217,\n",
       "         0.1270],\n",
       "        [0.0615, 0.1774, 0.0144, 0.1096, 0.0485, 0.1032, 0.0381, 0.1000, 0.3477,\n",
       "         0.1217],\n",
       "        [0.0615, 0.1774, 0.0092, 0.0578, 0.0265, 0.1037, 0.0364, 0.0900, 0.4057,\n",
       "         0.1138],\n",
       "        [0.0507, 0.2114, 0.0082, 0.0521, 0.0239, 0.0942, 0.0348, 0.0900, 0.4287,\n",
       "         0.0847]], device='cuda:0')"
      ]
     },
     "metadata": {},
     "execution_count": 61
    }
   ],
   "source": [
    "seq1 =  [tupl[0] for tupl in test_inout_seq]\n",
    "seq1[0]"
   ]
  },
  {
   "source": [
    "col1 = [tupl[1] for tupl in test_inout_seq]\n",
    "col1 = [a.cpu().numpy() for a in col1]\n",
    "col1[0]"
   ],
   "cell_type": "code",
   "metadata": {
    "tags": []
   },
   "execution_count": 33,
   "outputs": [
    {
     "output_type": "execute_result",
     "data": {
      "text/plain": [
       "array([0.05070119, 0.21142285, 0.00620745, 0.04901655, 0.02105897,\n",
       "       0.09222333, 0.03644395, 0.1       , 0.46473238, 0.06878307],\n",
       "      dtype=float32)"
      ]
     },
     "metadata": {},
     "execution_count": 33
    }
   ]
  },
  {
   "cell_type": "code",
   "execution_count": 60,
   "metadata": {},
   "outputs": [
    {
     "output_type": "error",
     "ename": "AttributeError",
     "evalue": "'list' object has no attribute 'view'",
     "traceback": [
      "\u001b[1;31m---------------------------------------------------------------------------\u001b[0m",
      "\u001b[1;31mAttributeError\u001b[0m                            Traceback (most recent call last)",
      "\u001b[1;32m<ipython-input-60-9d49fcce74f2>\u001b[0m in \u001b[0;36m<module>\u001b[1;34m\u001b[0m\n\u001b[1;32m----> 1\u001b[1;33m \u001b[0mpredlis\u001b[0m \u001b[1;33m=\u001b[0m \u001b[0mmodel\u001b[0m\u001b[1;33m(\u001b[0m\u001b[0mseq1\u001b[0m\u001b[1;33m)\u001b[0m\u001b[1;33m\u001b[0m\u001b[1;33m\u001b[0m\u001b[0m\n\u001b[0m",
      "\u001b[1;32m~\\anaconda3\\envs\\sopenv\\lib\\site-packages\\torch\\nn\\modules\\module.py\u001b[0m in \u001b[0;36m_call_impl\u001b[1;34m(self, *input, **kwargs)\u001b[0m\n\u001b[0;32m    887\u001b[0m             \u001b[0mresult\u001b[0m \u001b[1;33m=\u001b[0m \u001b[0mself\u001b[0m\u001b[1;33m.\u001b[0m\u001b[0m_slow_forward\u001b[0m\u001b[1;33m(\u001b[0m\u001b[1;33m*\u001b[0m\u001b[0minput\u001b[0m\u001b[1;33m,\u001b[0m \u001b[1;33m**\u001b[0m\u001b[0mkwargs\u001b[0m\u001b[1;33m)\u001b[0m\u001b[1;33m\u001b[0m\u001b[1;33m\u001b[0m\u001b[0m\n\u001b[0;32m    888\u001b[0m         \u001b[1;32melse\u001b[0m\u001b[1;33m:\u001b[0m\u001b[1;33m\u001b[0m\u001b[1;33m\u001b[0m\u001b[0m\n\u001b[1;32m--> 889\u001b[1;33m             \u001b[0mresult\u001b[0m \u001b[1;33m=\u001b[0m \u001b[0mself\u001b[0m\u001b[1;33m.\u001b[0m\u001b[0mforward\u001b[0m\u001b[1;33m(\u001b[0m\u001b[1;33m*\u001b[0m\u001b[0minput\u001b[0m\u001b[1;33m,\u001b[0m \u001b[1;33m**\u001b[0m\u001b[0mkwargs\u001b[0m\u001b[1;33m)\u001b[0m\u001b[1;33m\u001b[0m\u001b[1;33m\u001b[0m\u001b[0m\n\u001b[0m\u001b[0;32m    890\u001b[0m         for hook in itertools.chain(\n\u001b[0;32m    891\u001b[0m                 \u001b[0m_global_forward_hooks\u001b[0m\u001b[1;33m.\u001b[0m\u001b[0mvalues\u001b[0m\u001b[1;33m(\u001b[0m\u001b[1;33m)\u001b[0m\u001b[1;33m,\u001b[0m\u001b[1;33m\u001b[0m\u001b[1;33m\u001b[0m\u001b[0m\n",
      "\u001b[1;32m<ipython-input-9-285be2f87e37>\u001b[0m in \u001b[0;36mforward\u001b[1;34m(self, input_seq)\u001b[0m\n\u001b[0;32m     12\u001b[0m \u001b[1;33m\u001b[0m\u001b[0m\n\u001b[0;32m     13\u001b[0m     \u001b[1;32mdef\u001b[0m \u001b[0mforward\u001b[0m\u001b[1;33m(\u001b[0m\u001b[0mself\u001b[0m\u001b[1;33m,\u001b[0m \u001b[0minput_seq\u001b[0m\u001b[1;33m)\u001b[0m\u001b[1;33m:\u001b[0m\u001b[1;33m\u001b[0m\u001b[1;33m\u001b[0m\u001b[0m\n\u001b[1;32m---> 14\u001b[1;33m         \u001b[0mlstm_out\u001b[0m\u001b[1;33m,\u001b[0m \u001b[0mself\u001b[0m\u001b[1;33m.\u001b[0m\u001b[0mhidden_cell\u001b[0m \u001b[1;33m=\u001b[0m \u001b[0mself\u001b[0m\u001b[1;33m.\u001b[0m\u001b[0mlstm\u001b[0m\u001b[1;33m(\u001b[0m\u001b[0minput_seq\u001b[0m\u001b[1;33m.\u001b[0m\u001b[0mview\u001b[0m\u001b[1;33m(\u001b[0m\u001b[0mlen\u001b[0m\u001b[1;33m(\u001b[0m\u001b[0minput_seq\u001b[0m\u001b[1;33m)\u001b[0m \u001b[1;33m,\u001b[0m\u001b[1;36m1\u001b[0m\u001b[1;33m,\u001b[0m \u001b[1;33m-\u001b[0m\u001b[1;36m1\u001b[0m\u001b[1;33m)\u001b[0m\u001b[1;33m,\u001b[0m \u001b[0mself\u001b[0m\u001b[1;33m.\u001b[0m\u001b[0mhidden_cell\u001b[0m\u001b[1;33m)\u001b[0m\u001b[1;33m\u001b[0m\u001b[1;33m\u001b[0m\u001b[0m\n\u001b[0m\u001b[0;32m     15\u001b[0m         \u001b[0mpredictions\u001b[0m \u001b[1;33m=\u001b[0m \u001b[0mself\u001b[0m\u001b[1;33m.\u001b[0m\u001b[0mlinear\u001b[0m\u001b[1;33m(\u001b[0m\u001b[0mlstm_out\u001b[0m\u001b[1;33m.\u001b[0m\u001b[0mview\u001b[0m\u001b[1;33m(\u001b[0m\u001b[0mlen\u001b[0m\u001b[1;33m(\u001b[0m\u001b[0minput_seq\u001b[0m\u001b[1;33m)\u001b[0m\u001b[1;33m,\u001b[0m \u001b[1;33m-\u001b[0m\u001b[1;36m1\u001b[0m\u001b[1;33m)\u001b[0m\u001b[1;33m)\u001b[0m\u001b[1;33m\u001b[0m\u001b[1;33m\u001b[0m\u001b[0m\n\u001b[0;32m     16\u001b[0m         \u001b[1;32mreturn\u001b[0m \u001b[0mpredictions\u001b[0m\u001b[1;33m[\u001b[0m\u001b[1;33m-\u001b[0m\u001b[1;36m1\u001b[0m\u001b[1;33m]\u001b[0m\u001b[1;33m\u001b[0m\u001b[1;33m\u001b[0m\u001b[0m\n",
      "\u001b[1;31mAttributeError\u001b[0m: 'list' object has no attribute 'view'"
     ]
    }
   ],
   "source": [
    "predlis = model(seq1)"
   ]
  },
  {
   "cell_type": "code",
   "execution_count": 35,
   "metadata": {},
   "outputs": [
    {
     "output_type": "execute_result",
     "data": {
      "text/plain": [
       "tensor([-0.0024, -0.0068, -0.1335, -0.0616, -0.1294,  0.1465,  0.0050, -0.0153,\n",
       "         0.5077, -0.0203], device='cuda:0', grad_fn=<SelectBackward>)"
      ]
     },
     "metadata": {},
     "execution_count": 35
    }
   ],
   "source": [
    "model(test_inout_seq[0][0])"
   ]
  },
  {
   "cell_type": "code",
   "execution_count": 42,
   "metadata": {},
   "outputs": [
    {
     "output_type": "stream",
     "name": "stdout",
     "text": [
      "R^2 : 0.008063888902471051\n"
     ]
    }
   ],
   "source": [
    "r_square = r2_score(col1, y_pred_list)\n",
    "\n",
    "print(\"R^2 :\",r_square)"
   ]
  },
  {
   "cell_type": "code",
   "execution_count": 27,
   "metadata": {},
   "outputs": [
    {
     "output_type": "execute_result",
     "data": {
      "text/plain": [
       "([0.05070118606090546,\n",
       "  0.2114228457212448,\n",
       "  0.006207448896020651,\n",
       "  0.049016546458005905,\n",
       "  0.02105896547436714,\n",
       "  0.09222333133220673,\n",
       "  0.03644395247101784,\n",
       "  0.10000000149011612,\n",
       "  0.4647323787212372,\n",
       "  0.06878306716680527],\n",
       " [0.05478591471910477,\n",
       "  0.20234224200248718,\n",
       "  -0.0028618574142456055,\n",
       "  0.047275230288505554,\n",
       "  0.015922367572784424,\n",
       "  0.08844872564077377,\n",
       "  0.030655428767204285,\n",
       "  0.0806216448545456,\n",
       "  0.4856809973716736,\n",
       "  0.065723717212677])"
      ]
     },
     "metadata": {},
     "execution_count": 27
    }
   ],
   "source": [
    "col1[0], y_pred_list[0]\n",
    "\n"
   ]
  },
  {
   "cell_type": "code",
   "execution_count": null,
   "metadata": {},
   "outputs": [],
   "source": []
  }
 ]
}