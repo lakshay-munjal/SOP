{
 "cells": [
  {
   "cell_type": "code",
   "execution_count": 1,
   "metadata": {},
   "outputs": [],
   "source": [
    "import pandas as pd"
   ]
  },
  {
   "cell_type": "code",
   "execution_count": 5,
   "metadata": {},
   "outputs": [],
   "source": [
    "datafile =  pd.read_excel(\"finaldata.xlsx\", sheet_name=\"finaldata\", na_values=\"None\")"
   ]
  },
  {
   "cell_type": "code",
   "execution_count": 6,
   "metadata": {},
   "outputs": [
    {
     "output_type": "execute_result",
     "data": {
      "text/plain": [
       "          From Date           To Date  PM2.5   PM10     NO   NO2    NOx   NH3  \\\n",
       "0  01-01-2019 00:00  01-01-2019 00:15  509.0  838.0  192.9  58.9  188.7  62.5   \n",
       "1  01-01-2019 00:15  01-01-2019 00:30  509.0  838.0  223.8  57.0  213.1  61.1   \n",
       "2  01-01-2019 00:30  01-01-2019 00:45  509.0  838.0  192.4  64.7  191.2  67.0   \n",
       "3  01-01-2019 00:45  01-01-2019 01:00  417.0  659.0  220.0  63.1  213.1  66.5   \n",
       "4  01-01-2019 01:00  01-01-2019 01:15  417.0  659.0  211.0  56.2  202.1  65.8   \n",
       "\n",
       "    SO2   CO  Ozone  Benzene  \n",
       "0  18.2  5.9    1.8     14.8  \n",
       "1  16.2  6.0    2.3     14.1  \n",
       "2  16.1  5.2    2.3     13.8  \n",
       "3  15.5  5.4    2.3     13.6  \n",
       "4  15.3  5.0    NaN     12.6  "
      ],
      "text/html": "<div>\n<style scoped>\n    .dataframe tbody tr th:only-of-type {\n        vertical-align: middle;\n    }\n\n    .dataframe tbody tr th {\n        vertical-align: top;\n    }\n\n    .dataframe thead th {\n        text-align: right;\n    }\n</style>\n<table border=\"1\" class=\"dataframe\">\n  <thead>\n    <tr style=\"text-align: right;\">\n      <th></th>\n      <th>From Date</th>\n      <th>To Date</th>\n      <th>PM2.5</th>\n      <th>PM10</th>\n      <th>NO</th>\n      <th>NO2</th>\n      <th>NOx</th>\n      <th>NH3</th>\n      <th>SO2</th>\n      <th>CO</th>\n      <th>Ozone</th>\n      <th>Benzene</th>\n    </tr>\n  </thead>\n  <tbody>\n    <tr>\n      <th>0</th>\n      <td>01-01-2019 00:00</td>\n      <td>01-01-2019 00:15</td>\n      <td>509.0</td>\n      <td>838.0</td>\n      <td>192.9</td>\n      <td>58.9</td>\n      <td>188.7</td>\n      <td>62.5</td>\n      <td>18.2</td>\n      <td>5.9</td>\n      <td>1.8</td>\n      <td>14.8</td>\n    </tr>\n    <tr>\n      <th>1</th>\n      <td>01-01-2019 00:15</td>\n      <td>01-01-2019 00:30</td>\n      <td>509.0</td>\n      <td>838.0</td>\n      <td>223.8</td>\n      <td>57.0</td>\n      <td>213.1</td>\n      <td>61.1</td>\n      <td>16.2</td>\n      <td>6.0</td>\n      <td>2.3</td>\n      <td>14.1</td>\n    </tr>\n    <tr>\n      <th>2</th>\n      <td>01-01-2019 00:30</td>\n      <td>01-01-2019 00:45</td>\n      <td>509.0</td>\n      <td>838.0</td>\n      <td>192.4</td>\n      <td>64.7</td>\n      <td>191.2</td>\n      <td>67.0</td>\n      <td>16.1</td>\n      <td>5.2</td>\n      <td>2.3</td>\n      <td>13.8</td>\n    </tr>\n    <tr>\n      <th>3</th>\n      <td>01-01-2019 00:45</td>\n      <td>01-01-2019 01:00</td>\n      <td>417.0</td>\n      <td>659.0</td>\n      <td>220.0</td>\n      <td>63.1</td>\n      <td>213.1</td>\n      <td>66.5</td>\n      <td>15.5</td>\n      <td>5.4</td>\n      <td>2.3</td>\n      <td>13.6</td>\n    </tr>\n    <tr>\n      <th>4</th>\n      <td>01-01-2019 01:00</td>\n      <td>01-01-2019 01:15</td>\n      <td>417.0</td>\n      <td>659.0</td>\n      <td>211.0</td>\n      <td>56.2</td>\n      <td>202.1</td>\n      <td>65.8</td>\n      <td>15.3</td>\n      <td>5.0</td>\n      <td>NaN</td>\n      <td>12.6</td>\n    </tr>\n  </tbody>\n</table>\n</div>"
     },
     "metadata": {},
     "execution_count": 6
    }
   ],
   "source": [
    "datafile.head()"
   ]
  },
  {
   "cell_type": "code",
   "execution_count": 7,
   "metadata": {},
   "outputs": [
    {
     "output_type": "execute_result",
     "data": {
      "text/plain": [
       "From Date     object\n",
       "To Date       object\n",
       "PM2.5        float64\n",
       "PM10         float64\n",
       "NO           float64\n",
       "NO2          float64\n",
       "NOx          float64\n",
       "NH3          float64\n",
       "SO2          float64\n",
       "CO           float64\n",
       "Ozone        float64\n",
       "Benzene      float64\n",
       "dtype: object"
      ]
     },
     "metadata": {},
     "execution_count": 7
    }
   ],
   "source": [
    "datafile.dtypes"
   ]
  },
  {
   "cell_type": "code",
   "execution_count": 9,
   "metadata": {},
   "outputs": [],
   "source": [
    "datafile['From Date'] = pd.to_datetime(datafile['From Date'], format='%d-%m-%Y %H:%M')"
   ]
  },
  {
   "cell_type": "code",
   "execution_count": 12,
   "metadata": {},
   "outputs": [],
   "source": [
    "datafile['To Date'] = pd.to_datetime(datafile['To Date'], format='%d-%m-%Y %H:%M')"
   ]
  },
  {
   "cell_type": "code",
   "execution_count": 13,
   "metadata": {},
   "outputs": [
    {
     "output_type": "execute_result",
     "data": {
      "text/plain": [
       "From Date    datetime64[ns]\n",
       "To Date      datetime64[ns]\n",
       "PM2.5               float64\n",
       "PM10                float64\n",
       "NO                  float64\n",
       "NO2                 float64\n",
       "NOx                 float64\n",
       "NH3                 float64\n",
       "SO2                 float64\n",
       "CO                  float64\n",
       "Ozone               float64\n",
       "Benzene             float64\n",
       "dtype: object"
      ]
     },
     "metadata": {},
     "execution_count": 13
    }
   ],
   "source": [
    "datafile.dtypes"
   ]
  },
  {
   "cell_type": "code",
   "execution_count": 14,
   "metadata": {},
   "outputs": [],
   "source": [
    "datafile = datafile.set_index('From Date')"
   ]
  },
  {
   "cell_type": "code",
   "execution_count": 15,
   "metadata": {},
   "outputs": [
    {
     "output_type": "execute_result",
     "data": {
      "text/plain": [
       "                                To Date  PM2.5   PM10     NO   NO2    NOx  \\\n",
       "From Date                                                                   \n",
       "2019-01-01 00:00:00 2019-01-01 00:15:00  509.0  838.0  192.9  58.9  188.7   \n",
       "2019-01-01 00:15:00 2019-01-01 00:30:00  509.0  838.0  223.8  57.0  213.1   \n",
       "2019-01-01 00:30:00 2019-01-01 00:45:00  509.0  838.0  192.4  64.7  191.2   \n",
       "2019-01-01 00:45:00 2019-01-01 01:00:00  417.0  659.0  220.0  63.1  213.1   \n",
       "2019-01-01 01:00:00 2019-01-01 01:15:00  417.0  659.0  211.0  56.2  202.1   \n",
       "\n",
       "                      NH3   SO2   CO  Ozone  Benzene  \n",
       "From Date                                             \n",
       "2019-01-01 00:00:00  62.5  18.2  5.9    1.8     14.8  \n",
       "2019-01-01 00:15:00  61.1  16.2  6.0    2.3     14.1  \n",
       "2019-01-01 00:30:00  67.0  16.1  5.2    2.3     13.8  \n",
       "2019-01-01 00:45:00  66.5  15.5  5.4    2.3     13.6  \n",
       "2019-01-01 01:00:00  65.8  15.3  5.0    NaN     12.6  "
      ],
      "text/html": "<div>\n<style scoped>\n    .dataframe tbody tr th:only-of-type {\n        vertical-align: middle;\n    }\n\n    .dataframe tbody tr th {\n        vertical-align: top;\n    }\n\n    .dataframe thead th {\n        text-align: right;\n    }\n</style>\n<table border=\"1\" class=\"dataframe\">\n  <thead>\n    <tr style=\"text-align: right;\">\n      <th></th>\n      <th>To Date</th>\n      <th>PM2.5</th>\n      <th>PM10</th>\n      <th>NO</th>\n      <th>NO2</th>\n      <th>NOx</th>\n      <th>NH3</th>\n      <th>SO2</th>\n      <th>CO</th>\n      <th>Ozone</th>\n      <th>Benzene</th>\n    </tr>\n    <tr>\n      <th>From Date</th>\n      <th></th>\n      <th></th>\n      <th></th>\n      <th></th>\n      <th></th>\n      <th></th>\n      <th></th>\n      <th></th>\n      <th></th>\n      <th></th>\n      <th></th>\n    </tr>\n  </thead>\n  <tbody>\n    <tr>\n      <th>2019-01-01 00:00:00</th>\n      <td>2019-01-01 00:15:00</td>\n      <td>509.0</td>\n      <td>838.0</td>\n      <td>192.9</td>\n      <td>58.9</td>\n      <td>188.7</td>\n      <td>62.5</td>\n      <td>18.2</td>\n      <td>5.9</td>\n      <td>1.8</td>\n      <td>14.8</td>\n    </tr>\n    <tr>\n      <th>2019-01-01 00:15:00</th>\n      <td>2019-01-01 00:30:00</td>\n      <td>509.0</td>\n      <td>838.0</td>\n      <td>223.8</td>\n      <td>57.0</td>\n      <td>213.1</td>\n      <td>61.1</td>\n      <td>16.2</td>\n      <td>6.0</td>\n      <td>2.3</td>\n      <td>14.1</td>\n    </tr>\n    <tr>\n      <th>2019-01-01 00:30:00</th>\n      <td>2019-01-01 00:45:00</td>\n      <td>509.0</td>\n      <td>838.0</td>\n      <td>192.4</td>\n      <td>64.7</td>\n      <td>191.2</td>\n      <td>67.0</td>\n      <td>16.1</td>\n      <td>5.2</td>\n      <td>2.3</td>\n      <td>13.8</td>\n    </tr>\n    <tr>\n      <th>2019-01-01 00:45:00</th>\n      <td>2019-01-01 01:00:00</td>\n      <td>417.0</td>\n      <td>659.0</td>\n      <td>220.0</td>\n      <td>63.1</td>\n      <td>213.1</td>\n      <td>66.5</td>\n      <td>15.5</td>\n      <td>5.4</td>\n      <td>2.3</td>\n      <td>13.6</td>\n    </tr>\n    <tr>\n      <th>2019-01-01 01:00:00</th>\n      <td>2019-01-01 01:15:00</td>\n      <td>417.0</td>\n      <td>659.0</td>\n      <td>211.0</td>\n      <td>56.2</td>\n      <td>202.1</td>\n      <td>65.8</td>\n      <td>15.3</td>\n      <td>5.0</td>\n      <td>NaN</td>\n      <td>12.6</td>\n    </tr>\n  </tbody>\n</table>\n</div>"
     },
     "metadata": {},
     "execution_count": 15
    }
   ],
   "source": [
    "datafile.head()"
   ]
  },
  {
   "cell_type": "code",
   "execution_count": 16,
   "metadata": {},
   "outputs": [
    {
     "output_type": "execute_result",
     "data": {
      "text/plain": [
       "                                To Date  PM2.5   PM10     NO   NO2     NOx  \\\n",
       "From Date                                                                    \n",
       "2019-01-01 00:00:00 2019-01-01 00:15:00  509.0  838.0  192.9  58.9  188.70   \n",
       "2019-01-01 00:15:00 2019-01-01 00:30:00  509.0  838.0  223.8  57.0  213.10   \n",
       "2019-01-01 00:30:00 2019-01-01 00:45:00  509.0  838.0  192.4  64.7  191.20   \n",
       "2019-01-01 00:45:00 2019-01-01 01:00:00  417.0  659.0  220.0  63.1  213.10   \n",
       "2019-01-01 01:00:00 2019-01-01 01:15:00  417.0  659.0  211.0  56.2  202.10   \n",
       "2019-01-01 01:15:00 2019-01-01 01:30:00  417.0  659.0  196.4  62.5  193.40   \n",
       "2019-01-01 01:30:00 2019-01-01 01:45:00  417.0  659.0  136.4  71.3  148.50   \n",
       "2019-01-01 01:45:00 2019-01-01 02:00:00  356.0  592.0  102.3  67.8  119.20   \n",
       "2019-01-01 02:00:00 2019-01-01 02:15:00  356.0  592.0   92.3  67.1  110.75   \n",
       "2019-01-01 02:15:00 2019-01-01 02:30:00  356.0  592.0   82.3  66.4  102.30   \n",
       "2019-01-01 02:30:00 2019-01-01 02:45:00  356.0  592.0   72.3  65.7   93.85   \n",
       "2019-01-01 02:45:00 2019-01-01 03:00:00  267.0  404.0   62.3  65.0   85.40   \n",
       "2019-01-01 03:00:00 2019-01-01 03:15:00  267.0  404.0   77.7  62.9   96.70   \n",
       "2019-01-01 03:15:00 2019-01-01 03:30:00  267.0  404.0   53.1  62.2   76.40   \n",
       "2019-01-01 03:30:00 2019-01-01 03:45:00  267.0  404.0   52.5  55.4   72.30   \n",
       "\n",
       "                       NH3     SO2   CO  Ozone  Benzene  \n",
       "From Date                                                \n",
       "2019-01-01 00:00:00  62.50  18.200  5.9  1.800     14.8  \n",
       "2019-01-01 00:15:00  61.10  16.200  6.0  2.300     14.1  \n",
       "2019-01-01 00:30:00  67.00  16.100  5.2  2.300     13.8  \n",
       "2019-01-01 00:45:00  66.50  15.500  5.4  2.300     13.6  \n",
       "2019-01-01 01:00:00  65.80  15.300  5.0  2.325     12.6  \n",
       "2019-01-01 01:15:00  66.50  14.800  4.5  2.350     12.7  \n",
       "2019-01-01 01:30:00  71.80  14.800  3.0  2.375     11.7  \n",
       "2019-01-01 01:45:00  64.80  13.700  2.7  2.400     10.3  \n",
       "2019-01-01 02:00:00  61.05  12.375  2.5  1.900      8.0  \n",
       "2019-01-01 02:15:00  57.30  11.050  2.3  2.000      7.1  \n",
       "2019-01-01 02:30:00  53.55   9.725  2.1  2.200      6.7  \n",
       "2019-01-01 02:45:00  49.80   8.400  1.9  2.300      6.4  \n",
       "2019-01-01 03:00:00  52.90  11.700  1.9  1.800      6.0  \n",
       "2019-01-01 03:15:00  56.10  12.100  1.8  1.800      5.7  \n",
       "2019-01-01 03:30:00  56.90  12.400  1.7  1.600      5.6  "
      ],
      "text/html": "<div>\n<style scoped>\n    .dataframe tbody tr th:only-of-type {\n        vertical-align: middle;\n    }\n\n    .dataframe tbody tr th {\n        vertical-align: top;\n    }\n\n    .dataframe thead th {\n        text-align: right;\n    }\n</style>\n<table border=\"1\" class=\"dataframe\">\n  <thead>\n    <tr style=\"text-align: right;\">\n      <th></th>\n      <th>To Date</th>\n      <th>PM2.5</th>\n      <th>PM10</th>\n      <th>NO</th>\n      <th>NO2</th>\n      <th>NOx</th>\n      <th>NH3</th>\n      <th>SO2</th>\n      <th>CO</th>\n      <th>Ozone</th>\n      <th>Benzene</th>\n    </tr>\n    <tr>\n      <th>From Date</th>\n      <th></th>\n      <th></th>\n      <th></th>\n      <th></th>\n      <th></th>\n      <th></th>\n      <th></th>\n      <th></th>\n      <th></th>\n      <th></th>\n      <th></th>\n    </tr>\n  </thead>\n  <tbody>\n    <tr>\n      <th>2019-01-01 00:00:00</th>\n      <td>2019-01-01 00:15:00</td>\n      <td>509.0</td>\n      <td>838.0</td>\n      <td>192.9</td>\n      <td>58.9</td>\n      <td>188.70</td>\n      <td>62.50</td>\n      <td>18.200</td>\n      <td>5.9</td>\n      <td>1.800</td>\n      <td>14.8</td>\n    </tr>\n    <tr>\n      <th>2019-01-01 00:15:00</th>\n      <td>2019-01-01 00:30:00</td>\n      <td>509.0</td>\n      <td>838.0</td>\n      <td>223.8</td>\n      <td>57.0</td>\n      <td>213.10</td>\n      <td>61.10</td>\n      <td>16.200</td>\n      <td>6.0</td>\n      <td>2.300</td>\n      <td>14.1</td>\n    </tr>\n    <tr>\n      <th>2019-01-01 00:30:00</th>\n      <td>2019-01-01 00:45:00</td>\n      <td>509.0</td>\n      <td>838.0</td>\n      <td>192.4</td>\n      <td>64.7</td>\n      <td>191.20</td>\n      <td>67.00</td>\n      <td>16.100</td>\n      <td>5.2</td>\n      <td>2.300</td>\n      <td>13.8</td>\n    </tr>\n    <tr>\n      <th>2019-01-01 00:45:00</th>\n      <td>2019-01-01 01:00:00</td>\n      <td>417.0</td>\n      <td>659.0</td>\n      <td>220.0</td>\n      <td>63.1</td>\n      <td>213.10</td>\n      <td>66.50</td>\n      <td>15.500</td>\n      <td>5.4</td>\n      <td>2.300</td>\n      <td>13.6</td>\n    </tr>\n    <tr>\n      <th>2019-01-01 01:00:00</th>\n      <td>2019-01-01 01:15:00</td>\n      <td>417.0</td>\n      <td>659.0</td>\n      <td>211.0</td>\n      <td>56.2</td>\n      <td>202.10</td>\n      <td>65.80</td>\n      <td>15.300</td>\n      <td>5.0</td>\n      <td>2.325</td>\n      <td>12.6</td>\n    </tr>\n    <tr>\n      <th>2019-01-01 01:15:00</th>\n      <td>2019-01-01 01:30:00</td>\n      <td>417.0</td>\n      <td>659.0</td>\n      <td>196.4</td>\n      <td>62.5</td>\n      <td>193.40</td>\n      <td>66.50</td>\n      <td>14.800</td>\n      <td>4.5</td>\n      <td>2.350</td>\n      <td>12.7</td>\n    </tr>\n    <tr>\n      <th>2019-01-01 01:30:00</th>\n      <td>2019-01-01 01:45:00</td>\n      <td>417.0</td>\n      <td>659.0</td>\n      <td>136.4</td>\n      <td>71.3</td>\n      <td>148.50</td>\n      <td>71.80</td>\n      <td>14.800</td>\n      <td>3.0</td>\n      <td>2.375</td>\n      <td>11.7</td>\n    </tr>\n    <tr>\n      <th>2019-01-01 01:45:00</th>\n      <td>2019-01-01 02:00:00</td>\n      <td>356.0</td>\n      <td>592.0</td>\n      <td>102.3</td>\n      <td>67.8</td>\n      <td>119.20</td>\n      <td>64.80</td>\n      <td>13.700</td>\n      <td>2.7</td>\n      <td>2.400</td>\n      <td>10.3</td>\n    </tr>\n    <tr>\n      <th>2019-01-01 02:00:00</th>\n      <td>2019-01-01 02:15:00</td>\n      <td>356.0</td>\n      <td>592.0</td>\n      <td>92.3</td>\n      <td>67.1</td>\n      <td>110.75</td>\n      <td>61.05</td>\n      <td>12.375</td>\n      <td>2.5</td>\n      <td>1.900</td>\n      <td>8.0</td>\n    </tr>\n    <tr>\n      <th>2019-01-01 02:15:00</th>\n      <td>2019-01-01 02:30:00</td>\n      <td>356.0</td>\n      <td>592.0</td>\n      <td>82.3</td>\n      <td>66.4</td>\n      <td>102.30</td>\n      <td>57.30</td>\n      <td>11.050</td>\n      <td>2.3</td>\n      <td>2.000</td>\n      <td>7.1</td>\n    </tr>\n    <tr>\n      <th>2019-01-01 02:30:00</th>\n      <td>2019-01-01 02:45:00</td>\n      <td>356.0</td>\n      <td>592.0</td>\n      <td>72.3</td>\n      <td>65.7</td>\n      <td>93.85</td>\n      <td>53.55</td>\n      <td>9.725</td>\n      <td>2.1</td>\n      <td>2.200</td>\n      <td>6.7</td>\n    </tr>\n    <tr>\n      <th>2019-01-01 02:45:00</th>\n      <td>2019-01-01 03:00:00</td>\n      <td>267.0</td>\n      <td>404.0</td>\n      <td>62.3</td>\n      <td>65.0</td>\n      <td>85.40</td>\n      <td>49.80</td>\n      <td>8.400</td>\n      <td>1.9</td>\n      <td>2.300</td>\n      <td>6.4</td>\n    </tr>\n    <tr>\n      <th>2019-01-01 03:00:00</th>\n      <td>2019-01-01 03:15:00</td>\n      <td>267.0</td>\n      <td>404.0</td>\n      <td>77.7</td>\n      <td>62.9</td>\n      <td>96.70</td>\n      <td>52.90</td>\n      <td>11.700</td>\n      <td>1.9</td>\n      <td>1.800</td>\n      <td>6.0</td>\n    </tr>\n    <tr>\n      <th>2019-01-01 03:15:00</th>\n      <td>2019-01-01 03:30:00</td>\n      <td>267.0</td>\n      <td>404.0</td>\n      <td>53.1</td>\n      <td>62.2</td>\n      <td>76.40</td>\n      <td>56.10</td>\n      <td>12.100</td>\n      <td>1.8</td>\n      <td>1.800</td>\n      <td>5.7</td>\n    </tr>\n    <tr>\n      <th>2019-01-01 03:30:00</th>\n      <td>2019-01-01 03:45:00</td>\n      <td>267.0</td>\n      <td>404.0</td>\n      <td>52.5</td>\n      <td>55.4</td>\n      <td>72.30</td>\n      <td>56.90</td>\n      <td>12.400</td>\n      <td>1.7</td>\n      <td>1.600</td>\n      <td>5.6</td>\n    </tr>\n  </tbody>\n</table>\n</div>"
     },
     "metadata": {},
     "execution_count": 16
    }
   ],
   "source": [
    "datafile.interpolate(method='linear').head(15)"
   ]
  },
  {
   "cell_type": "code",
   "execution_count": 17,
   "metadata": {},
   "outputs": [
    {
     "output_type": "execute_result",
     "data": {
      "text/plain": [
       "                                To Date  PM2.5   PM10     NO   NO2     NOx  \\\n",
       "From Date                                                                    \n",
       "2019-01-01 00:00:00 2019-01-01 00:15:00  509.0  838.0  192.9  58.9  188.70   \n",
       "2019-01-01 00:15:00 2019-01-01 00:30:00  509.0  838.0  223.8  57.0  213.10   \n",
       "2019-01-01 00:30:00 2019-01-01 00:45:00  509.0  838.0  192.4  64.7  191.20   \n",
       "2019-01-01 00:45:00 2019-01-01 01:00:00  417.0  659.0  220.0  63.1  213.10   \n",
       "2019-01-01 01:00:00 2019-01-01 01:15:00  417.0  659.0  211.0  56.2  202.10   \n",
       "2019-01-01 01:15:00 2019-01-01 01:30:00  417.0  659.0  196.4  62.5  193.40   \n",
       "2019-01-01 01:30:00 2019-01-01 01:45:00  417.0  659.0  136.4  71.3  148.50   \n",
       "2019-01-01 01:45:00 2019-01-01 02:00:00  356.0  592.0  102.3  67.8  119.20   \n",
       "2019-01-01 02:00:00 2019-01-01 02:15:00  356.0  592.0   92.3  67.1  110.75   \n",
       "2019-01-01 02:15:00 2019-01-01 02:30:00  356.0  592.0   82.3  66.4  102.30   \n",
       "2019-01-01 02:30:00 2019-01-01 02:45:00  356.0  592.0   72.3  65.7   93.85   \n",
       "2019-01-01 02:45:00 2019-01-01 03:00:00  267.0  404.0   62.3  65.0   85.40   \n",
       "2019-01-01 03:00:00 2019-01-01 03:15:00  267.0  404.0   77.7  62.9   96.70   \n",
       "2019-01-01 03:15:00 2019-01-01 03:30:00  267.0  404.0   53.1  62.2   76.40   \n",
       "2019-01-01 03:30:00 2019-01-01 03:45:00  267.0  404.0   52.5  55.4   72.30   \n",
       "\n",
       "                       NH3     SO2   CO  Ozone  Benzene  \n",
       "From Date                                                \n",
       "2019-01-01 00:00:00  62.50  18.200  5.9  1.800     14.8  \n",
       "2019-01-01 00:15:00  61.10  16.200  6.0  2.300     14.1  \n",
       "2019-01-01 00:30:00  67.00  16.100  5.2  2.300     13.8  \n",
       "2019-01-01 00:45:00  66.50  15.500  5.4  2.300     13.6  \n",
       "2019-01-01 01:00:00  65.80  15.300  5.0  2.325     12.6  \n",
       "2019-01-01 01:15:00  66.50  14.800  4.5  2.350     12.7  \n",
       "2019-01-01 01:30:00  71.80  14.800  3.0  2.375     11.7  \n",
       "2019-01-01 01:45:00  64.80  13.700  2.7  2.400     10.3  \n",
       "2019-01-01 02:00:00  61.05  12.375  2.5  1.900      8.0  \n",
       "2019-01-01 02:15:00  57.30  11.050  2.3  2.000      7.1  \n",
       "2019-01-01 02:30:00  53.55   9.725  2.1  2.200      6.7  \n",
       "2019-01-01 02:45:00  49.80   8.400  1.9  2.300      6.4  \n",
       "2019-01-01 03:00:00  52.90  11.700  1.9  1.800      6.0  \n",
       "2019-01-01 03:15:00  56.10  12.100  1.8  1.800      5.7  \n",
       "2019-01-01 03:30:00  56.90  12.400  1.7  1.600      5.6  "
      ],
      "text/html": "<div>\n<style scoped>\n    .dataframe tbody tr th:only-of-type {\n        vertical-align: middle;\n    }\n\n    .dataframe tbody tr th {\n        vertical-align: top;\n    }\n\n    .dataframe thead th {\n        text-align: right;\n    }\n</style>\n<table border=\"1\" class=\"dataframe\">\n  <thead>\n    <tr style=\"text-align: right;\">\n      <th></th>\n      <th>To Date</th>\n      <th>PM2.5</th>\n      <th>PM10</th>\n      <th>NO</th>\n      <th>NO2</th>\n      <th>NOx</th>\n      <th>NH3</th>\n      <th>SO2</th>\n      <th>CO</th>\n      <th>Ozone</th>\n      <th>Benzene</th>\n    </tr>\n    <tr>\n      <th>From Date</th>\n      <th></th>\n      <th></th>\n      <th></th>\n      <th></th>\n      <th></th>\n      <th></th>\n      <th></th>\n      <th></th>\n      <th></th>\n      <th></th>\n      <th></th>\n    </tr>\n  </thead>\n  <tbody>\n    <tr>\n      <th>2019-01-01 00:00:00</th>\n      <td>2019-01-01 00:15:00</td>\n      <td>509.0</td>\n      <td>838.0</td>\n      <td>192.9</td>\n      <td>58.9</td>\n      <td>188.70</td>\n      <td>62.50</td>\n      <td>18.200</td>\n      <td>5.9</td>\n      <td>1.800</td>\n      <td>14.8</td>\n    </tr>\n    <tr>\n      <th>2019-01-01 00:15:00</th>\n      <td>2019-01-01 00:30:00</td>\n      <td>509.0</td>\n      <td>838.0</td>\n      <td>223.8</td>\n      <td>57.0</td>\n      <td>213.10</td>\n      <td>61.10</td>\n      <td>16.200</td>\n      <td>6.0</td>\n      <td>2.300</td>\n      <td>14.1</td>\n    </tr>\n    <tr>\n      <th>2019-01-01 00:30:00</th>\n      <td>2019-01-01 00:45:00</td>\n      <td>509.0</td>\n      <td>838.0</td>\n      <td>192.4</td>\n      <td>64.7</td>\n      <td>191.20</td>\n      <td>67.00</td>\n      <td>16.100</td>\n      <td>5.2</td>\n      <td>2.300</td>\n      <td>13.8</td>\n    </tr>\n    <tr>\n      <th>2019-01-01 00:45:00</th>\n      <td>2019-01-01 01:00:00</td>\n      <td>417.0</td>\n      <td>659.0</td>\n      <td>220.0</td>\n      <td>63.1</td>\n      <td>213.10</td>\n      <td>66.50</td>\n      <td>15.500</td>\n      <td>5.4</td>\n      <td>2.300</td>\n      <td>13.6</td>\n    </tr>\n    <tr>\n      <th>2019-01-01 01:00:00</th>\n      <td>2019-01-01 01:15:00</td>\n      <td>417.0</td>\n      <td>659.0</td>\n      <td>211.0</td>\n      <td>56.2</td>\n      <td>202.10</td>\n      <td>65.80</td>\n      <td>15.300</td>\n      <td>5.0</td>\n      <td>2.325</td>\n      <td>12.6</td>\n    </tr>\n    <tr>\n      <th>2019-01-01 01:15:00</th>\n      <td>2019-01-01 01:30:00</td>\n      <td>417.0</td>\n      <td>659.0</td>\n      <td>196.4</td>\n      <td>62.5</td>\n      <td>193.40</td>\n      <td>66.50</td>\n      <td>14.800</td>\n      <td>4.5</td>\n      <td>2.350</td>\n      <td>12.7</td>\n    </tr>\n    <tr>\n      <th>2019-01-01 01:30:00</th>\n      <td>2019-01-01 01:45:00</td>\n      <td>417.0</td>\n      <td>659.0</td>\n      <td>136.4</td>\n      <td>71.3</td>\n      <td>148.50</td>\n      <td>71.80</td>\n      <td>14.800</td>\n      <td>3.0</td>\n      <td>2.375</td>\n      <td>11.7</td>\n    </tr>\n    <tr>\n      <th>2019-01-01 01:45:00</th>\n      <td>2019-01-01 02:00:00</td>\n      <td>356.0</td>\n      <td>592.0</td>\n      <td>102.3</td>\n      <td>67.8</td>\n      <td>119.20</td>\n      <td>64.80</td>\n      <td>13.700</td>\n      <td>2.7</td>\n      <td>2.400</td>\n      <td>10.3</td>\n    </tr>\n    <tr>\n      <th>2019-01-01 02:00:00</th>\n      <td>2019-01-01 02:15:00</td>\n      <td>356.0</td>\n      <td>592.0</td>\n      <td>92.3</td>\n      <td>67.1</td>\n      <td>110.75</td>\n      <td>61.05</td>\n      <td>12.375</td>\n      <td>2.5</td>\n      <td>1.900</td>\n      <td>8.0</td>\n    </tr>\n    <tr>\n      <th>2019-01-01 02:15:00</th>\n      <td>2019-01-01 02:30:00</td>\n      <td>356.0</td>\n      <td>592.0</td>\n      <td>82.3</td>\n      <td>66.4</td>\n      <td>102.30</td>\n      <td>57.30</td>\n      <td>11.050</td>\n      <td>2.3</td>\n      <td>2.000</td>\n      <td>7.1</td>\n    </tr>\n    <tr>\n      <th>2019-01-01 02:30:00</th>\n      <td>2019-01-01 02:45:00</td>\n      <td>356.0</td>\n      <td>592.0</td>\n      <td>72.3</td>\n      <td>65.7</td>\n      <td>93.85</td>\n      <td>53.55</td>\n      <td>9.725</td>\n      <td>2.1</td>\n      <td>2.200</td>\n      <td>6.7</td>\n    </tr>\n    <tr>\n      <th>2019-01-01 02:45:00</th>\n      <td>2019-01-01 03:00:00</td>\n      <td>267.0</td>\n      <td>404.0</td>\n      <td>62.3</td>\n      <td>65.0</td>\n      <td>85.40</td>\n      <td>49.80</td>\n      <td>8.400</td>\n      <td>1.9</td>\n      <td>2.300</td>\n      <td>6.4</td>\n    </tr>\n    <tr>\n      <th>2019-01-01 03:00:00</th>\n      <td>2019-01-01 03:15:00</td>\n      <td>267.0</td>\n      <td>404.0</td>\n      <td>77.7</td>\n      <td>62.9</td>\n      <td>96.70</td>\n      <td>52.90</td>\n      <td>11.700</td>\n      <td>1.9</td>\n      <td>1.800</td>\n      <td>6.0</td>\n    </tr>\n    <tr>\n      <th>2019-01-01 03:15:00</th>\n      <td>2019-01-01 03:30:00</td>\n      <td>267.0</td>\n      <td>404.0</td>\n      <td>53.1</td>\n      <td>62.2</td>\n      <td>76.40</td>\n      <td>56.10</td>\n      <td>12.100</td>\n      <td>1.8</td>\n      <td>1.800</td>\n      <td>5.7</td>\n    </tr>\n    <tr>\n      <th>2019-01-01 03:30:00</th>\n      <td>2019-01-01 03:45:00</td>\n      <td>267.0</td>\n      <td>404.0</td>\n      <td>52.5</td>\n      <td>55.4</td>\n      <td>72.30</td>\n      <td>56.90</td>\n      <td>12.400</td>\n      <td>1.7</td>\n      <td>1.600</td>\n      <td>5.6</td>\n    </tr>\n  </tbody>\n</table>\n</div>"
     },
     "metadata": {},
     "execution_count": 17
    }
   ],
   "source": [
    "datafile.interpolate(method='linear').head(15)"
   ]
  },
  {
   "cell_type": "code",
   "execution_count": 18,
   "metadata": {},
   "outputs": [
    {
     "output_type": "execute_result",
     "data": {
      "text/plain": [
       "To Date        0\n",
       "PM2.5       2016\n",
       "PM10        3362\n",
       "NO          4126\n",
       "NO2         3580\n",
       "NOx         3731\n",
       "NH3         5870\n",
       "SO2        10578\n",
       "CO          6870\n",
       "Ozone       5305\n",
       "Benzene     1899\n",
       "dtype: int64"
      ]
     },
     "metadata": {},
     "execution_count": 18
    }
   ],
   "source": [
    "datafile.isna().sum()"
   ]
  },
  {
   "cell_type": "code",
   "execution_count": 19,
   "metadata": {},
   "outputs": [
    {
     "output_type": "execute_result",
     "data": {
      "text/plain": [
       "To Date    0\n",
       "PM2.5      0\n",
       "PM10       0\n",
       "NO         0\n",
       "NO2        0\n",
       "NOx        0\n",
       "NH3        0\n",
       "SO2        0\n",
       "CO         0\n",
       "Ozone      0\n",
       "Benzene    0\n",
       "dtype: int64"
      ]
     },
     "metadata": {},
     "execution_count": 19
    }
   ],
   "source": [
    "datafile.interpolate(method='linear').isna().sum()"
   ]
  },
  {
   "cell_type": "code",
   "execution_count": 20,
   "metadata": {},
   "outputs": [],
   "source": [
    "datafile = datafile.interpolate(method='linear')"
   ]
  },
  {
   "cell_type": "code",
   "execution_count": 21,
   "metadata": {},
   "outputs": [
    {
     "output_type": "execute_result",
     "data": {
      "text/plain": [
       "                                To Date  PM2.5   PM10     NO   NO2     NOx  \\\n",
       "From Date                                                                    \n",
       "2019-01-01 00:00:00 2019-01-01 00:15:00  509.0  838.0  192.9  58.9  188.70   \n",
       "2019-01-01 00:15:00 2019-01-01 00:30:00  509.0  838.0  223.8  57.0  213.10   \n",
       "2019-01-01 00:30:00 2019-01-01 00:45:00  509.0  838.0  192.4  64.7  191.20   \n",
       "2019-01-01 00:45:00 2019-01-01 01:00:00  417.0  659.0  220.0  63.1  213.10   \n",
       "2019-01-01 01:00:00 2019-01-01 01:15:00  417.0  659.0  211.0  56.2  202.10   \n",
       "2019-01-01 01:15:00 2019-01-01 01:30:00  417.0  659.0  196.4  62.5  193.40   \n",
       "2019-01-01 01:30:00 2019-01-01 01:45:00  417.0  659.0  136.4  71.3  148.50   \n",
       "2019-01-01 01:45:00 2019-01-01 02:00:00  356.0  592.0  102.3  67.8  119.20   \n",
       "2019-01-01 02:00:00 2019-01-01 02:15:00  356.0  592.0   92.3  67.1  110.75   \n",
       "2019-01-01 02:15:00 2019-01-01 02:30:00  356.0  592.0   82.3  66.4  102.30   \n",
       "2019-01-01 02:30:00 2019-01-01 02:45:00  356.0  592.0   72.3  65.7   93.85   \n",
       "2019-01-01 02:45:00 2019-01-01 03:00:00  267.0  404.0   62.3  65.0   85.40   \n",
       "2019-01-01 03:00:00 2019-01-01 03:15:00  267.0  404.0   77.7  62.9   96.70   \n",
       "2019-01-01 03:15:00 2019-01-01 03:30:00  267.0  404.0   53.1  62.2   76.40   \n",
       "2019-01-01 03:30:00 2019-01-01 03:45:00  267.0  404.0   52.5  55.4   72.30   \n",
       "\n",
       "                       NH3     SO2   CO  Ozone  Benzene  \n",
       "From Date                                                \n",
       "2019-01-01 00:00:00  62.50  18.200  5.9  1.800     14.8  \n",
       "2019-01-01 00:15:00  61.10  16.200  6.0  2.300     14.1  \n",
       "2019-01-01 00:30:00  67.00  16.100  5.2  2.300     13.8  \n",
       "2019-01-01 00:45:00  66.50  15.500  5.4  2.300     13.6  \n",
       "2019-01-01 01:00:00  65.80  15.300  5.0  2.325     12.6  \n",
       "2019-01-01 01:15:00  66.50  14.800  4.5  2.350     12.7  \n",
       "2019-01-01 01:30:00  71.80  14.800  3.0  2.375     11.7  \n",
       "2019-01-01 01:45:00  64.80  13.700  2.7  2.400     10.3  \n",
       "2019-01-01 02:00:00  61.05  12.375  2.5  1.900      8.0  \n",
       "2019-01-01 02:15:00  57.30  11.050  2.3  2.000      7.1  \n",
       "2019-01-01 02:30:00  53.55   9.725  2.1  2.200      6.7  \n",
       "2019-01-01 02:45:00  49.80   8.400  1.9  2.300      6.4  \n",
       "2019-01-01 03:00:00  52.90  11.700  1.9  1.800      6.0  \n",
       "2019-01-01 03:15:00  56.10  12.100  1.8  1.800      5.7  \n",
       "2019-01-01 03:30:00  56.90  12.400  1.7  1.600      5.6  "
      ],
      "text/html": "<div>\n<style scoped>\n    .dataframe tbody tr th:only-of-type {\n        vertical-align: middle;\n    }\n\n    .dataframe tbody tr th {\n        vertical-align: top;\n    }\n\n    .dataframe thead th {\n        text-align: right;\n    }\n</style>\n<table border=\"1\" class=\"dataframe\">\n  <thead>\n    <tr style=\"text-align: right;\">\n      <th></th>\n      <th>To Date</th>\n      <th>PM2.5</th>\n      <th>PM10</th>\n      <th>NO</th>\n      <th>NO2</th>\n      <th>NOx</th>\n      <th>NH3</th>\n      <th>SO2</th>\n      <th>CO</th>\n      <th>Ozone</th>\n      <th>Benzene</th>\n    </tr>\n    <tr>\n      <th>From Date</th>\n      <th></th>\n      <th></th>\n      <th></th>\n      <th></th>\n      <th></th>\n      <th></th>\n      <th></th>\n      <th></th>\n      <th></th>\n      <th></th>\n      <th></th>\n    </tr>\n  </thead>\n  <tbody>\n    <tr>\n      <th>2019-01-01 00:00:00</th>\n      <td>2019-01-01 00:15:00</td>\n      <td>509.0</td>\n      <td>838.0</td>\n      <td>192.9</td>\n      <td>58.9</td>\n      <td>188.70</td>\n      <td>62.50</td>\n      <td>18.200</td>\n      <td>5.9</td>\n      <td>1.800</td>\n      <td>14.8</td>\n    </tr>\n    <tr>\n      <th>2019-01-01 00:15:00</th>\n      <td>2019-01-01 00:30:00</td>\n      <td>509.0</td>\n      <td>838.0</td>\n      <td>223.8</td>\n      <td>57.0</td>\n      <td>213.10</td>\n      <td>61.10</td>\n      <td>16.200</td>\n      <td>6.0</td>\n      <td>2.300</td>\n      <td>14.1</td>\n    </tr>\n    <tr>\n      <th>2019-01-01 00:30:00</th>\n      <td>2019-01-01 00:45:00</td>\n      <td>509.0</td>\n      <td>838.0</td>\n      <td>192.4</td>\n      <td>64.7</td>\n      <td>191.20</td>\n      <td>67.00</td>\n      <td>16.100</td>\n      <td>5.2</td>\n      <td>2.300</td>\n      <td>13.8</td>\n    </tr>\n    <tr>\n      <th>2019-01-01 00:45:00</th>\n      <td>2019-01-01 01:00:00</td>\n      <td>417.0</td>\n      <td>659.0</td>\n      <td>220.0</td>\n      <td>63.1</td>\n      <td>213.10</td>\n      <td>66.50</td>\n      <td>15.500</td>\n      <td>5.4</td>\n      <td>2.300</td>\n      <td>13.6</td>\n    </tr>\n    <tr>\n      <th>2019-01-01 01:00:00</th>\n      <td>2019-01-01 01:15:00</td>\n      <td>417.0</td>\n      <td>659.0</td>\n      <td>211.0</td>\n      <td>56.2</td>\n      <td>202.10</td>\n      <td>65.80</td>\n      <td>15.300</td>\n      <td>5.0</td>\n      <td>2.325</td>\n      <td>12.6</td>\n    </tr>\n    <tr>\n      <th>2019-01-01 01:15:00</th>\n      <td>2019-01-01 01:30:00</td>\n      <td>417.0</td>\n      <td>659.0</td>\n      <td>196.4</td>\n      <td>62.5</td>\n      <td>193.40</td>\n      <td>66.50</td>\n      <td>14.800</td>\n      <td>4.5</td>\n      <td>2.350</td>\n      <td>12.7</td>\n    </tr>\n    <tr>\n      <th>2019-01-01 01:30:00</th>\n      <td>2019-01-01 01:45:00</td>\n      <td>417.0</td>\n      <td>659.0</td>\n      <td>136.4</td>\n      <td>71.3</td>\n      <td>148.50</td>\n      <td>71.80</td>\n      <td>14.800</td>\n      <td>3.0</td>\n      <td>2.375</td>\n      <td>11.7</td>\n    </tr>\n    <tr>\n      <th>2019-01-01 01:45:00</th>\n      <td>2019-01-01 02:00:00</td>\n      <td>356.0</td>\n      <td>592.0</td>\n      <td>102.3</td>\n      <td>67.8</td>\n      <td>119.20</td>\n      <td>64.80</td>\n      <td>13.700</td>\n      <td>2.7</td>\n      <td>2.400</td>\n      <td>10.3</td>\n    </tr>\n    <tr>\n      <th>2019-01-01 02:00:00</th>\n      <td>2019-01-01 02:15:00</td>\n      <td>356.0</td>\n      <td>592.0</td>\n      <td>92.3</td>\n      <td>67.1</td>\n      <td>110.75</td>\n      <td>61.05</td>\n      <td>12.375</td>\n      <td>2.5</td>\n      <td>1.900</td>\n      <td>8.0</td>\n    </tr>\n    <tr>\n      <th>2019-01-01 02:15:00</th>\n      <td>2019-01-01 02:30:00</td>\n      <td>356.0</td>\n      <td>592.0</td>\n      <td>82.3</td>\n      <td>66.4</td>\n      <td>102.30</td>\n      <td>57.30</td>\n      <td>11.050</td>\n      <td>2.3</td>\n      <td>2.000</td>\n      <td>7.1</td>\n    </tr>\n    <tr>\n      <th>2019-01-01 02:30:00</th>\n      <td>2019-01-01 02:45:00</td>\n      <td>356.0</td>\n      <td>592.0</td>\n      <td>72.3</td>\n      <td>65.7</td>\n      <td>93.85</td>\n      <td>53.55</td>\n      <td>9.725</td>\n      <td>2.1</td>\n      <td>2.200</td>\n      <td>6.7</td>\n    </tr>\n    <tr>\n      <th>2019-01-01 02:45:00</th>\n      <td>2019-01-01 03:00:00</td>\n      <td>267.0</td>\n      <td>404.0</td>\n      <td>62.3</td>\n      <td>65.0</td>\n      <td>85.40</td>\n      <td>49.80</td>\n      <td>8.400</td>\n      <td>1.9</td>\n      <td>2.300</td>\n      <td>6.4</td>\n    </tr>\n    <tr>\n      <th>2019-01-01 03:00:00</th>\n      <td>2019-01-01 03:15:00</td>\n      <td>267.0</td>\n      <td>404.0</td>\n      <td>77.7</td>\n      <td>62.9</td>\n      <td>96.70</td>\n      <td>52.90</td>\n      <td>11.700</td>\n      <td>1.9</td>\n      <td>1.800</td>\n      <td>6.0</td>\n    </tr>\n    <tr>\n      <th>2019-01-01 03:15:00</th>\n      <td>2019-01-01 03:30:00</td>\n      <td>267.0</td>\n      <td>404.0</td>\n      <td>53.1</td>\n      <td>62.2</td>\n      <td>76.40</td>\n      <td>56.10</td>\n      <td>12.100</td>\n      <td>1.8</td>\n      <td>1.800</td>\n      <td>5.7</td>\n    </tr>\n    <tr>\n      <th>2019-01-01 03:30:00</th>\n      <td>2019-01-01 03:45:00</td>\n      <td>267.0</td>\n      <td>404.0</td>\n      <td>52.5</td>\n      <td>55.4</td>\n      <td>72.30</td>\n      <td>56.90</td>\n      <td>12.400</td>\n      <td>1.7</td>\n      <td>1.600</td>\n      <td>5.6</td>\n    </tr>\n  </tbody>\n</table>\n</div>"
     },
     "metadata": {},
     "execution_count": 21
    }
   ],
   "source": [
    "datafile.head(15)"
   ]
  },
  {
   "cell_type": "code",
   "execution_count": 24,
   "metadata": {},
   "outputs": [],
   "source": [
    "datafile = datafile.drop('To Date', axis=1)"
   ]
  },
  {
   "cell_type": "code",
   "execution_count": 25,
   "metadata": {},
   "outputs": [
    {
     "output_type": "execute_result",
     "data": {
      "text/plain": [
       "          PM2.5      PM10        NO       NO2       NOx       NH3       SO2  \\\n",
       "0      0.548004  0.837675  0.386063  0.183578  0.377457  0.311067  0.099945   \n",
       "1      0.548004  0.837675  0.447938  0.177646  0.426394  0.304088  0.088901   \n",
       "2      0.548004  0.837675  0.385062  0.201686  0.382471  0.333500  0.088349   \n",
       "3      0.448759  0.658317  0.440328  0.196691  0.426394  0.331007  0.085036   \n",
       "4      0.448759  0.658317  0.422307  0.175148  0.404332  0.327517  0.083932   \n",
       "...         ...       ...       ...       ...       ...       ...       ...   \n",
       "70171  0.370011  0.430862  0.466760  0.193569  0.446450  0.268195  0.083379   \n",
       "70172  0.370011  0.430862  0.321586  0.192007  0.327718  0.277168  0.078410   \n",
       "70173  0.370011  0.430862  0.327393  0.203559  0.336141  0.285643  0.071784   \n",
       "70174  0.370011  0.430862  0.303965  0.165470  0.304051  0.307577  0.073440   \n",
       "70175  0.409924  0.481964  0.410493  0.167968  0.391897  0.307079  0.073440   \n",
       "\n",
       "         CO     Ozone   Benzene  \n",
       "0      0.59  0.008504  0.391534  \n",
       "1      0.60  0.011006  0.373016  \n",
       "2      0.52  0.011006  0.365079  \n",
       "3      0.54  0.011006  0.359788  \n",
       "4      0.50  0.011131  0.333333  \n",
       "...     ...       ...       ...  \n",
       "70171  0.30  0.025513  0.283069  \n",
       "70172  0.29  0.025013  0.277778  \n",
       "70173  0.31  0.027014  0.288360  \n",
       "70174  0.28  0.027014  0.293651  \n",
       "70175  0.31  0.024012  0.293651  \n",
       "\n",
       "[70176 rows x 10 columns]"
      ],
      "text/html": "<div>\n<style scoped>\n    .dataframe tbody tr th:only-of-type {\n        vertical-align: middle;\n    }\n\n    .dataframe tbody tr th {\n        vertical-align: top;\n    }\n\n    .dataframe thead th {\n        text-align: right;\n    }\n</style>\n<table border=\"1\" class=\"dataframe\">\n  <thead>\n    <tr style=\"text-align: right;\">\n      <th></th>\n      <th>PM2.5</th>\n      <th>PM10</th>\n      <th>NO</th>\n      <th>NO2</th>\n      <th>NOx</th>\n      <th>NH3</th>\n      <th>SO2</th>\n      <th>CO</th>\n      <th>Ozone</th>\n      <th>Benzene</th>\n    </tr>\n  </thead>\n  <tbody>\n    <tr>\n      <th>0</th>\n      <td>0.548004</td>\n      <td>0.837675</td>\n      <td>0.386063</td>\n      <td>0.183578</td>\n      <td>0.377457</td>\n      <td>0.311067</td>\n      <td>0.099945</td>\n      <td>0.59</td>\n      <td>0.008504</td>\n      <td>0.391534</td>\n    </tr>\n    <tr>\n      <th>1</th>\n      <td>0.548004</td>\n      <td>0.837675</td>\n      <td>0.447938</td>\n      <td>0.177646</td>\n      <td>0.426394</td>\n      <td>0.304088</td>\n      <td>0.088901</td>\n      <td>0.60</td>\n      <td>0.011006</td>\n      <td>0.373016</td>\n    </tr>\n    <tr>\n      <th>2</th>\n      <td>0.548004</td>\n      <td>0.837675</td>\n      <td>0.385062</td>\n      <td>0.201686</td>\n      <td>0.382471</td>\n      <td>0.333500</td>\n      <td>0.088349</td>\n      <td>0.52</td>\n      <td>0.011006</td>\n      <td>0.365079</td>\n    </tr>\n    <tr>\n      <th>3</th>\n      <td>0.448759</td>\n      <td>0.658317</td>\n      <td>0.440328</td>\n      <td>0.196691</td>\n      <td>0.426394</td>\n      <td>0.331007</td>\n      <td>0.085036</td>\n      <td>0.54</td>\n      <td>0.011006</td>\n      <td>0.359788</td>\n    </tr>\n    <tr>\n      <th>4</th>\n      <td>0.448759</td>\n      <td>0.658317</td>\n      <td>0.422307</td>\n      <td>0.175148</td>\n      <td>0.404332</td>\n      <td>0.327517</td>\n      <td>0.083932</td>\n      <td>0.50</td>\n      <td>0.011131</td>\n      <td>0.333333</td>\n    </tr>\n    <tr>\n      <th>...</th>\n      <td>...</td>\n      <td>...</td>\n      <td>...</td>\n      <td>...</td>\n      <td>...</td>\n      <td>...</td>\n      <td>...</td>\n      <td>...</td>\n      <td>...</td>\n      <td>...</td>\n    </tr>\n    <tr>\n      <th>70171</th>\n      <td>0.370011</td>\n      <td>0.430862</td>\n      <td>0.466760</td>\n      <td>0.193569</td>\n      <td>0.446450</td>\n      <td>0.268195</td>\n      <td>0.083379</td>\n      <td>0.30</td>\n      <td>0.025513</td>\n      <td>0.283069</td>\n    </tr>\n    <tr>\n      <th>70172</th>\n      <td>0.370011</td>\n      <td>0.430862</td>\n      <td>0.321586</td>\n      <td>0.192007</td>\n      <td>0.327718</td>\n      <td>0.277168</td>\n      <td>0.078410</td>\n      <td>0.29</td>\n      <td>0.025013</td>\n      <td>0.277778</td>\n    </tr>\n    <tr>\n      <th>70173</th>\n      <td>0.370011</td>\n      <td>0.430862</td>\n      <td>0.327393</td>\n      <td>0.203559</td>\n      <td>0.336141</td>\n      <td>0.285643</td>\n      <td>0.071784</td>\n      <td>0.31</td>\n      <td>0.027014</td>\n      <td>0.288360</td>\n    </tr>\n    <tr>\n      <th>70174</th>\n      <td>0.370011</td>\n      <td>0.430862</td>\n      <td>0.303965</td>\n      <td>0.165470</td>\n      <td>0.304051</td>\n      <td>0.307577</td>\n      <td>0.073440</td>\n      <td>0.28</td>\n      <td>0.027014</td>\n      <td>0.293651</td>\n    </tr>\n    <tr>\n      <th>70175</th>\n      <td>0.409924</td>\n      <td>0.481964</td>\n      <td>0.410493</td>\n      <td>0.167968</td>\n      <td>0.391897</td>\n      <td>0.307079</td>\n      <td>0.073440</td>\n      <td>0.31</td>\n      <td>0.024012</td>\n      <td>0.293651</td>\n    </tr>\n  </tbody>\n</table>\n<p>70176 rows × 10 columns</p>\n</div>"
     },
     "metadata": {},
     "execution_count": 25
    }
   ],
   "source": [
    "from sklearn.preprocessing import MinMaxScaler\n",
    "\n",
    "scaler = MinMaxScaler()\n",
    "\n",
    "df_norm = pd.DataFrame(scaler.fit_transform(datafile), columns=datafile.columns)\n",
    "\n",
    "df_norm"
   ]
  },
  {
   "cell_type": "code",
   "execution_count": 33,
   "metadata": {},
   "outputs": [
    {
     "output_type": "execute_result",
     "data": {
      "text/plain": [
       "                        PM2.5      PM10        NO       NO2       NOx  \\\n",
       "From Date                                                               \n",
       "2019-01-01 00:00:00  0.548004  0.837675  0.386063  0.183578  0.377457   \n",
       "2019-01-01 00:15:00  0.548004  0.837675  0.447938  0.177646  0.426394   \n",
       "2019-01-01 00:30:00  0.548004  0.837675  0.385062  0.201686  0.382471   \n",
       "2019-01-01 00:45:00  0.448759  0.658317  0.440328  0.196691  0.426394   \n",
       "2019-01-01 01:00:00  0.448759  0.658317  0.422307  0.175148  0.404332   \n",
       "...                       ...       ...       ...       ...       ...   \n",
       "2020-12-31 22:45:00  0.370011  0.430862  0.466760  0.193569  0.446450   \n",
       "2020-12-31 23:00:00  0.370011  0.430862  0.321586  0.192007  0.327718   \n",
       "2020-12-31 23:15:00  0.370011  0.430862  0.327393  0.203559  0.336141   \n",
       "2020-12-31 23:30:00  0.370011  0.430862  0.303965  0.165470  0.304051   \n",
       "2020-12-31 23:45:00  0.409924  0.481964  0.410493  0.167968  0.391897   \n",
       "\n",
       "                          NH3       SO2    CO     Ozone   Benzene  \n",
       "From Date                                                          \n",
       "2019-01-01 00:00:00  0.311067  0.099945  0.59  0.008504  0.391534  \n",
       "2019-01-01 00:15:00  0.304088  0.088901  0.60  0.011006  0.373016  \n",
       "2019-01-01 00:30:00  0.333500  0.088349  0.52  0.011006  0.365079  \n",
       "2019-01-01 00:45:00  0.331007  0.085036  0.54  0.011006  0.359788  \n",
       "2019-01-01 01:00:00  0.327517  0.083932  0.50  0.011131  0.333333  \n",
       "...                       ...       ...   ...       ...       ...  \n",
       "2020-12-31 22:45:00  0.268195  0.083379  0.30  0.025513  0.283069  \n",
       "2020-12-31 23:00:00  0.277168  0.078410  0.29  0.025013  0.277778  \n",
       "2020-12-31 23:15:00  0.285643  0.071784  0.31  0.027014  0.288360  \n",
       "2020-12-31 23:30:00  0.307577  0.073440  0.28  0.027014  0.293651  \n",
       "2020-12-31 23:45:00  0.307079  0.073440  0.31  0.024012  0.293651  \n",
       "\n",
       "[70176 rows x 10 columns]"
      ],
      "text/html": "<div>\n<style scoped>\n    .dataframe tbody tr th:only-of-type {\n        vertical-align: middle;\n    }\n\n    .dataframe tbody tr th {\n        vertical-align: top;\n    }\n\n    .dataframe thead th {\n        text-align: right;\n    }\n</style>\n<table border=\"1\" class=\"dataframe\">\n  <thead>\n    <tr style=\"text-align: right;\">\n      <th></th>\n      <th>PM2.5</th>\n      <th>PM10</th>\n      <th>NO</th>\n      <th>NO2</th>\n      <th>NOx</th>\n      <th>NH3</th>\n      <th>SO2</th>\n      <th>CO</th>\n      <th>Ozone</th>\n      <th>Benzene</th>\n    </tr>\n    <tr>\n      <th>From Date</th>\n      <th></th>\n      <th></th>\n      <th></th>\n      <th></th>\n      <th></th>\n      <th></th>\n      <th></th>\n      <th></th>\n      <th></th>\n      <th></th>\n    </tr>\n  </thead>\n  <tbody>\n    <tr>\n      <th>2019-01-01 00:00:00</th>\n      <td>0.548004</td>\n      <td>0.837675</td>\n      <td>0.386063</td>\n      <td>0.183578</td>\n      <td>0.377457</td>\n      <td>0.311067</td>\n      <td>0.099945</td>\n      <td>0.59</td>\n      <td>0.008504</td>\n      <td>0.391534</td>\n    </tr>\n    <tr>\n      <th>2019-01-01 00:15:00</th>\n      <td>0.548004</td>\n      <td>0.837675</td>\n      <td>0.447938</td>\n      <td>0.177646</td>\n      <td>0.426394</td>\n      <td>0.304088</td>\n      <td>0.088901</td>\n      <td>0.60</td>\n      <td>0.011006</td>\n      <td>0.373016</td>\n    </tr>\n    <tr>\n      <th>2019-01-01 00:30:00</th>\n      <td>0.548004</td>\n      <td>0.837675</td>\n      <td>0.385062</td>\n      <td>0.201686</td>\n      <td>0.382471</td>\n      <td>0.333500</td>\n      <td>0.088349</td>\n      <td>0.52</td>\n      <td>0.011006</td>\n      <td>0.365079</td>\n    </tr>\n    <tr>\n      <th>2019-01-01 00:45:00</th>\n      <td>0.448759</td>\n      <td>0.658317</td>\n      <td>0.440328</td>\n      <td>0.196691</td>\n      <td>0.426394</td>\n      <td>0.331007</td>\n      <td>0.085036</td>\n      <td>0.54</td>\n      <td>0.011006</td>\n      <td>0.359788</td>\n    </tr>\n    <tr>\n      <th>2019-01-01 01:00:00</th>\n      <td>0.448759</td>\n      <td>0.658317</td>\n      <td>0.422307</td>\n      <td>0.175148</td>\n      <td>0.404332</td>\n      <td>0.327517</td>\n      <td>0.083932</td>\n      <td>0.50</td>\n      <td>0.011131</td>\n      <td>0.333333</td>\n    </tr>\n    <tr>\n      <th>...</th>\n      <td>...</td>\n      <td>...</td>\n      <td>...</td>\n      <td>...</td>\n      <td>...</td>\n      <td>...</td>\n      <td>...</td>\n      <td>...</td>\n      <td>...</td>\n      <td>...</td>\n    </tr>\n    <tr>\n      <th>2020-12-31 22:45:00</th>\n      <td>0.370011</td>\n      <td>0.430862</td>\n      <td>0.466760</td>\n      <td>0.193569</td>\n      <td>0.446450</td>\n      <td>0.268195</td>\n      <td>0.083379</td>\n      <td>0.30</td>\n      <td>0.025513</td>\n      <td>0.283069</td>\n    </tr>\n    <tr>\n      <th>2020-12-31 23:00:00</th>\n      <td>0.370011</td>\n      <td>0.430862</td>\n      <td>0.321586</td>\n      <td>0.192007</td>\n      <td>0.327718</td>\n      <td>0.277168</td>\n      <td>0.078410</td>\n      <td>0.29</td>\n      <td>0.025013</td>\n      <td>0.277778</td>\n    </tr>\n    <tr>\n      <th>2020-12-31 23:15:00</th>\n      <td>0.370011</td>\n      <td>0.430862</td>\n      <td>0.327393</td>\n      <td>0.203559</td>\n      <td>0.336141</td>\n      <td>0.285643</td>\n      <td>0.071784</td>\n      <td>0.31</td>\n      <td>0.027014</td>\n      <td>0.288360</td>\n    </tr>\n    <tr>\n      <th>2020-12-31 23:30:00</th>\n      <td>0.370011</td>\n      <td>0.430862</td>\n      <td>0.303965</td>\n      <td>0.165470</td>\n      <td>0.304051</td>\n      <td>0.307577</td>\n      <td>0.073440</td>\n      <td>0.28</td>\n      <td>0.027014</td>\n      <td>0.293651</td>\n    </tr>\n    <tr>\n      <th>2020-12-31 23:45:00</th>\n      <td>0.409924</td>\n      <td>0.481964</td>\n      <td>0.410493</td>\n      <td>0.167968</td>\n      <td>0.391897</td>\n      <td>0.307079</td>\n      <td>0.073440</td>\n      <td>0.31</td>\n      <td>0.024012</td>\n      <td>0.293651</td>\n    </tr>\n  </tbody>\n</table>\n<p>70176 rows × 10 columns</p>\n</div>"
     },
     "metadata": {},
     "execution_count": 33
    }
   ],
   "source": [
    "df = datafile.copy()\n",
    "for column in df.columns:\n",
    "    df[column] = df_norm[column].values\n",
    "df"
   ]
  },
  {
   "cell_type": "code",
   "execution_count": 34,
   "metadata": {},
   "outputs": [],
   "source": [
    "df.to_excel(\"data.xlsx\", sheet_name=\"data\")"
   ]
  },
  {
   "cell_type": "code",
   "execution_count": 3,
   "metadata": {},
   "outputs": [
    {
     "output_type": "execute_result",
     "data": {
      "text/plain": [
       "'NVIDIA GeForce RTX 2060'"
      ]
     },
     "metadata": {},
     "execution_count": 3
    }
   ],
   "source": [
    "\n",
    "import torch\n",
    "\n",
    "torch.cuda.get_device_name(0)"
   ]
  },
  {
   "cell_type": "code",
   "execution_count": 4,
   "metadata": {},
   "outputs": [
    {
     "output_type": "execute_result",
     "data": {
      "text/plain": [
       "0"
      ]
     },
     "metadata": {},
     "execution_count": 4
    }
   ],
   "source": [
    "torch.cuda.current_device()"
   ]
  },
  {
   "cell_type": "code",
   "execution_count": 5,
   "metadata": {},
   "outputs": [
    {
     "output_type": "execute_result",
     "data": {
      "text/plain": [
       "1"
      ]
     },
     "metadata": {},
     "execution_count": 5
    }
   ],
   "source": [
    "torch.cuda.device_count()"
   ]
  },
  {
   "cell_type": "code",
   "execution_count": null,
   "metadata": {},
   "outputs": [],
   "source": []
  }
 ],
 "metadata": {
  "kernelspec": {
   "name": "python385jvsc74a57bd0690558a352076bea257667e4a3840a9949b167d4e82d85b564fb3243fa6eb52b",
   "display_name": "Python 3.8.5 64-bit ('sopenv': conda)"
  },
  "language_info": {
   "codemirror_mode": {
    "name": "ipython",
    "version": 3
   },
   "file_extension": ".py",
   "mimetype": "text/x-python",
   "name": "python",
   "nbconvert_exporter": "python",
   "pygments_lexer": "ipython3",
   "version": "3.8.5"
  }
 },
 "nbformat": 4,
 "nbformat_minor": 2
}