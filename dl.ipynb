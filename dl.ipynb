{
 "metadata": {
  "language_info": {
   "codemirror_mode": {
    "name": "ipython",
    "version": 3
   },
   "file_extension": ".py",
   "mimetype": "text/x-python",
   "name": "python",
   "nbconvert_exporter": "python",
   "pygments_lexer": "ipython3",
   "version": "3.8.5"
  },
  "orig_nbformat": 2,
  "kernelspec": {
   "name": "python385jvsc74a57bd0690558a352076bea257667e4a3840a9949b167d4e82d85b564fb3243fa6eb52b",
   "display_name": "Python 3.8.5 64-bit ('sopenv': conda)"
  }
 },
 "nbformat": 4,
 "nbformat_minor": 2,
 "cells": [
  {
   "cell_type": "code",
   "execution_count": 1,
   "metadata": {},
   "outputs": [],
   "source": [
    "import torch\n",
    "import torch.nn as nn\n",
    "import numpy as np\n",
    "import pandas as pd"
   ]
  },
  {
   "cell_type": "code",
   "execution_count": 2,
   "metadata": {},
   "outputs": [],
   "source": [
    "if torch.cuda.is_available():  \n",
    "  dev = \"cuda:0\" \n",
    "else:  \n",
    "  dev = \"cpu\"  \n",
    "device = torch.device(dev)"
   ]
  },
  {
   "cell_type": "code",
   "execution_count": 3,
   "metadata": {},
   "outputs": [
    {
     "output_type": "execute_result",
     "data": {
      "text/plain": [
       "            From Date     PM2.5      PM10        NO       NO2       NOx  \\\n",
       "0 2019-01-01 00:00:00  0.548004  0.837675  0.386063  0.183578  0.377457   \n",
       "1 2019-01-01 00:15:00  0.548004  0.837675  0.447938  0.177646  0.426394   \n",
       "2 2019-01-01 00:30:00  0.548004  0.837675  0.385062  0.201686  0.382471   \n",
       "3 2019-01-01 00:45:00  0.448759  0.658317  0.440328  0.196691  0.426394   \n",
       "4 2019-01-01 01:00:00  0.448759  0.658317  0.422307  0.175148  0.404332   \n",
       "\n",
       "        NH3       SO2    CO     Ozone   Benzene  \n",
       "0  0.311067  0.099945  0.59  0.008504  0.391534  \n",
       "1  0.304088  0.088901  0.60  0.011006  0.373016  \n",
       "2  0.333500  0.088349  0.52  0.011006  0.365079  \n",
       "3  0.331007  0.085036  0.54  0.011006  0.359788  \n",
       "4  0.327517  0.083932  0.50  0.011131  0.333333  "
      ],
      "text/html": "<div>\n<style scoped>\n    .dataframe tbody tr th:only-of-type {\n        vertical-align: middle;\n    }\n\n    .dataframe tbody tr th {\n        vertical-align: top;\n    }\n\n    .dataframe thead th {\n        text-align: right;\n    }\n</style>\n<table border=\"1\" class=\"dataframe\">\n  <thead>\n    <tr style=\"text-align: right;\">\n      <th></th>\n      <th>From Date</th>\n      <th>PM2.5</th>\n      <th>PM10</th>\n      <th>NO</th>\n      <th>NO2</th>\n      <th>NOx</th>\n      <th>NH3</th>\n      <th>SO2</th>\n      <th>CO</th>\n      <th>Ozone</th>\n      <th>Benzene</th>\n    </tr>\n  </thead>\n  <tbody>\n    <tr>\n      <th>0</th>\n      <td>2019-01-01 00:00:00</td>\n      <td>0.548004</td>\n      <td>0.837675</td>\n      <td>0.386063</td>\n      <td>0.183578</td>\n      <td>0.377457</td>\n      <td>0.311067</td>\n      <td>0.099945</td>\n      <td>0.59</td>\n      <td>0.008504</td>\n      <td>0.391534</td>\n    </tr>\n    <tr>\n      <th>1</th>\n      <td>2019-01-01 00:15:00</td>\n      <td>0.548004</td>\n      <td>0.837675</td>\n      <td>0.447938</td>\n      <td>0.177646</td>\n      <td>0.426394</td>\n      <td>0.304088</td>\n      <td>0.088901</td>\n      <td>0.60</td>\n      <td>0.011006</td>\n      <td>0.373016</td>\n    </tr>\n    <tr>\n      <th>2</th>\n      <td>2019-01-01 00:30:00</td>\n      <td>0.548004</td>\n      <td>0.837675</td>\n      <td>0.385062</td>\n      <td>0.201686</td>\n      <td>0.382471</td>\n      <td>0.333500</td>\n      <td>0.088349</td>\n      <td>0.52</td>\n      <td>0.011006</td>\n      <td>0.365079</td>\n    </tr>\n    <tr>\n      <th>3</th>\n      <td>2019-01-01 00:45:00</td>\n      <td>0.448759</td>\n      <td>0.658317</td>\n      <td>0.440328</td>\n      <td>0.196691</td>\n      <td>0.426394</td>\n      <td>0.331007</td>\n      <td>0.085036</td>\n      <td>0.54</td>\n      <td>0.011006</td>\n      <td>0.359788</td>\n    </tr>\n    <tr>\n      <th>4</th>\n      <td>2019-01-01 01:00:00</td>\n      <td>0.448759</td>\n      <td>0.658317</td>\n      <td>0.422307</td>\n      <td>0.175148</td>\n      <td>0.404332</td>\n      <td>0.327517</td>\n      <td>0.083932</td>\n      <td>0.50</td>\n      <td>0.011131</td>\n      <td>0.333333</td>\n    </tr>\n  </tbody>\n</table>\n</div>"
     },
     "metadata": {},
     "execution_count": 3
    }
   ],
   "source": [
    "df = pd.read_excel(\"data.xlsx\", sheet_name=\"data\")\n",
    "df.head()"
   ]
  },
  {
   "cell_type": "code",
   "execution_count": 4,
   "metadata": {},
   "outputs": [],
   "source": [
    "df = df.set_index('From Date')"
   ]
  },
  {
   "cell_type": "code",
   "execution_count": 5,
   "metadata": {},
   "outputs": [
    {
     "output_type": "execute_result",
     "data": {
      "text/plain": [
       "(70176, 10)"
      ]
     },
     "metadata": {},
     "execution_count": 5
    }
   ],
   "source": [
    "df.shape"
   ]
  },
  {
   "cell_type": "code",
   "execution_count": 6,
   "metadata": {},
   "outputs": [
    {
     "output_type": "execute_result",
     "data": {
      "text/plain": [
       "17544"
      ]
     },
     "metadata": {},
     "execution_count": 6
    }
   ],
   "source": [
    "test_data_size = int(df.shape[0]/4)\n",
    "test_data_size"
   ]
  },
  {
   "cell_type": "code",
   "execution_count": 7,
   "metadata": {},
   "outputs": [
    {
     "output_type": "execute_result",
     "data": {
      "text/plain": [
       "((52632, 10), (17544, 10))"
      ]
     },
     "metadata": {},
     "execution_count": 7
    }
   ],
   "source": [
    "train_data = df[:-test_data_size]\n",
    "test_data = df[-test_data_size:]\n",
    "train_data.shape, test_data.shape"
   ]
  },
  {
   "cell_type": "code",
   "execution_count": 8,
   "metadata": {},
   "outputs": [],
   "source": [
    "train_daat = torch.FloatTensor(train_data.values).view(-1).to(device)"
   ]
  },
  {
   "cell_type": "code",
   "execution_count": 9,
   "metadata": {},
   "outputs": [
    {
     "output_type": "execute_result",
     "data": {
      "text/plain": [
       "tensor([0.5480, 0.8377, 0.3861, 0.1836, 0.3775, 0.3111, 0.0999, 0.5900, 0.0085,\n",
       "        0.3915], device='cuda:0')"
      ]
     },
     "metadata": {},
     "execution_count": 9
    }
   ],
   "source": [
    "train_data_tensor = train_data.view(-1, 10)\n",
    "\n",
    "train_data_tensor[0]"
   ]
  },
  {
   "cell_type": "code",
   "execution_count": 10,
   "metadata": {},
   "outputs": [
    {
     "output_type": "execute_result",
     "data": {
      "text/plain": [
       "device(type='cuda', index=0)"
      ]
     },
     "metadata": {},
     "execution_count": 10
    }
   ],
   "source": [
    "device"
   ]
  },
  {
   "cell_type": "code",
   "execution_count": 11,
   "metadata": {},
   "outputs": [],
   "source": [
    "def create_inout_sequences(input_data, tw):\n",
    "    inout_seq = []\n",
    "    L = len(input_data)\n",
    "    for i in range(L-tw):\n",
    "        train_seq = input_data[i:i+tw]\n",
    "        train_label = input_data[i+tw]\n",
    "        inout_seq.append((train_seq ,train_label))\n",
    "    return inout_seq"
   ]
  },
  {
   "cell_type": "code",
   "execution_count": 12,
   "metadata": {},
   "outputs": [
    {
     "output_type": "execute_result",
     "data": {
      "text/plain": [
       "(tensor([[0.5480, 0.8377, 0.3861, 0.1836, 0.3775, 0.3111, 0.0999, 0.5900, 0.0085,\n",
       "          0.3915],\n",
       "         [0.5480, 0.8377, 0.4479, 0.1776, 0.4264, 0.3041, 0.0889, 0.6000, 0.0110,\n",
       "          0.3730],\n",
       "         [0.5480, 0.8377, 0.3851, 0.2017, 0.3825, 0.3335, 0.0883, 0.5200, 0.0110,\n",
       "          0.3651],\n",
       "         [0.4488, 0.6583, 0.4403, 0.1967, 0.4264, 0.3310, 0.0850, 0.5400, 0.0110,\n",
       "          0.3598],\n",
       "         [0.4488, 0.6583, 0.4223, 0.1751, 0.4043, 0.3275, 0.0839, 0.5000, 0.0111,\n",
       "          0.3333],\n",
       "         [0.4488, 0.6583, 0.3931, 0.1948, 0.3869, 0.3310, 0.0812, 0.4500, 0.0113,\n",
       "          0.3360],\n",
       "         [0.4488, 0.6583, 0.2729, 0.2223, 0.2968, 0.3574, 0.0812, 0.3000, 0.0114,\n",
       "          0.3095],\n",
       "         [0.3830, 0.5912, 0.2046, 0.2114, 0.2381, 0.3225, 0.0751, 0.2700, 0.0115,\n",
       "          0.2725],\n",
       "         [0.3830, 0.5912, 0.1846, 0.2092, 0.2211, 0.3038, 0.0678, 0.2500, 0.0090,\n",
       "          0.2116],\n",
       "         [0.3830, 0.5912, 0.1646, 0.2070, 0.2042, 0.2851, 0.0605, 0.2300, 0.0095,\n",
       "          0.1878],\n",
       "         [0.3830, 0.5912, 0.1446, 0.2048, 0.1872, 0.2665, 0.0531, 0.2100, 0.0105,\n",
       "          0.1772],\n",
       "         [0.2869, 0.4028, 0.1245, 0.2026, 0.1703, 0.2478, 0.0458, 0.1900, 0.0110,\n",
       "          0.1693],\n",
       "         [0.2869, 0.4028, 0.1554, 0.1961, 0.1929, 0.2632, 0.0641, 0.1900, 0.0085,\n",
       "          0.1587],\n",
       "         [0.2869, 0.4028, 0.1061, 0.1939, 0.1522, 0.2792, 0.0663, 0.1800, 0.0085,\n",
       "          0.1508],\n",
       "         [0.2869, 0.4028, 0.1049, 0.1727, 0.1440, 0.2832, 0.0679, 0.1700, 0.0075,\n",
       "          0.1481],\n",
       "         [0.2427, 0.3417, 0.1087, 0.1855, 0.1514, 0.2856, 0.0657, 0.1700, 0.0070,\n",
       "          0.1429]], device='cuda:0'),\n",
       " tensor([0.2427, 0.3417, 0.1225, 0.1833, 0.1623, 0.2841, 0.0624, 0.1800, 0.0060,\n",
       "         0.1429], device='cuda:0'))"
      ]
     },
     "metadata": {},
     "execution_count": 12
    }
   ],
   "source": [
    "train_inout_seq = create_inout_sequences(train_data_tensor, 16)\n",
    "train_inout_seq[0]"
   ]
  },
  {
   "cell_type": "code",
   "execution_count": 13,
   "metadata": {},
   "outputs": [
    {
     "output_type": "execute_result",
     "data": {
      "text/plain": [
       "(torch.Size([16, 10]), torch.Size([10]))"
      ]
     },
     "metadata": {},
     "execution_count": 13
    }
   ],
   "source": [
    "seq1, labe1l = train_inout_seq[0]\n",
    "seq1.shape, labe1l.shape"
   ]
  },
  {
   "cell_type": "code",
   "execution_count": 14,
   "metadata": {},
   "outputs": [],
   "source": [
    "class LSTM(nn.Module):\n",
    "    def __init__(self, input_size=10, hidden_layer_size=100, output_size=10):\n",
    "        super().__init__()\n",
    "        self.hidden_layer_size = hidden_layer_size\n",
    "\n",
    "        self.lstm = nn.LSTM(input_size, hidden_layer_size)\n",
    "\n",
    "        self.linear = nn.Linear(hidden_layer_size, output_size)\n",
    "\n",
    "        self.hidden_cell = (torch.zeros(1,1,self.hidden_layer_size).to(device),\n",
    "                            torch.zeros(1,1,self.hidden_layer_size).to(device))\n",
    "\n",
    "    def forward(self, input_seq):\n",
    "        lstm_out, self.hidden_cell = self.lstm(input_seq.view(len(input_seq) ,1, -1), self.hidden_cell)\n",
    "        predictions = self.linear(lstm_out.view(len(input_seq), -1))\n",
    "        return predictions[-1]"
   ]
  },
  {
   "cell_type": "code",
   "execution_count": 15,
   "metadata": {},
   "outputs": [],
   "source": [
    "model = LSTM().to(device)\n",
    "loss_function = nn.MSELoss()\n",
    "optimizer = torch.optim.Adam(model.parameters(), lr=0.001)"
   ]
  },
  {
   "cell_type": "code",
   "execution_count": 16,
   "metadata": {},
   "outputs": [
    {
     "output_type": "stream",
     "name": "stdout",
     "text": [
      "LSTM(\n  (lstm): LSTM(10, 100)\n  (linear): Linear(in_features=100, out_features=10, bias=True)\n)\n"
     ]
    }
   ],
   "source": [
    "print(model)"
   ]
  },
  {
   "cell_type": "code",
   "execution_count": 17,
   "metadata": {},
   "outputs": [
    {
     "output_type": "stream",
     "name": "stdout",
     "text": [
      "epoch:   1 loss: 0.00005125\n",
      "epoch:   3 loss: 0.00004820\n",
      "epoch:   5 loss: 0.00004989\n",
      "epoch:   7 loss: 0.00004934\n",
      "epoch:   9 loss: 0.00004764\n",
      "epoch:   9 loss: 0.0000476390\n"
     ]
    }
   ],
   "source": [
    "epochs = 10\n",
    "\n",
    "for i in range(epochs):\n",
    "    for seq, labels in train_inout_seq:\n",
    "        optimizer.zero_grad()\n",
    "        model.hidden_cell = (torch.zeros(1, 1, model.hidden_layer_size).to(device),\n",
    "                        torch.zeros(1, 1, model.hidden_layer_size).to(device))\n",
    "\n",
    "        y_pred = model(seq)\n",
    "\n",
    "        single_loss = loss_function(y_pred, labels)\n",
    "        single_loss.backward()\n",
    "        optimizer.step()\n",
    "\n",
    "    if i%2 == 1:\n",
    "        print(f'epoch: {i:3} loss: {single_loss.item():10.8f}')\n",
    "\n",
    "print(f'epoch: {i:3} loss: {single_loss.item():10.10f}')"
   ]
  },
  {
   "cell_type": "code",
   "execution_count": 19,
   "metadata": {},
   "outputs": [],
   "source": [
    "torch.save(model, \"model.pt\")"
   ]
  },
  {
   "cell_type": "code",
   "execution_count": 20,
   "metadata": {},
   "outputs": [
    {
     "output_type": "execute_result",
     "data": {
      "text/plain": [
       "(tensor([[0.0658, 0.1263, 0.0094, 0.0952, 0.0395, 0.0962, 0.0304, 0.1000, 0.1371,\n",
       "          0.0741],\n",
       "         [0.0658, 0.1263, 0.0096, 0.0924, 0.0387, 0.0967, 0.0331, 0.1000, 0.1381,\n",
       "          0.0741],\n",
       "         [0.0658, 0.1263, 0.0098, 0.0815, 0.0351, 0.0962, 0.0387, 0.1000, 0.1381,\n",
       "          0.0794],\n",
       "         [0.0593, 0.1513, 0.0110, 0.0871, 0.0381, 0.0982, 0.0447, 0.1000, 0.1311,\n",
       "          0.0899],\n",
       "         [0.0593, 0.1513, 0.0172, 0.0871, 0.0431, 0.1017, 0.0414, 0.1100, 0.1286,\n",
       "          0.0926],\n",
       "         [0.0593, 0.1513, 0.0128, 0.0884, 0.0399, 0.1122, 0.0409, 0.1100, 0.1576,\n",
       "          0.0952],\n",
       "         [0.0593, 0.1513, 0.0124, 0.0902, 0.0401, 0.1181, 0.0375, 0.1100, 0.1746,\n",
       "          0.1111],\n",
       "         [0.0626, 0.1503, 0.0118, 0.0974, 0.0423, 0.1181, 0.0375, 0.1100, 0.1896,\n",
       "          0.1164],\n",
       "         [0.0626, 0.1503, 0.0174, 0.1140, 0.0525, 0.1171, 0.0370, 0.1200, 0.1801,\n",
       "          0.1164],\n",
       "         [0.0626, 0.1503, 0.0286, 0.1146, 0.0618, 0.1142, 0.0359, 0.1200, 0.2021,\n",
       "          0.1111],\n",
       "         [0.0626, 0.1503, 0.0116, 0.1249, 0.0515, 0.1171, 0.0370, 0.1200, 0.2571,\n",
       "          0.1190],\n",
       "         [0.0615, 0.1774, 0.0170, 0.1033, 0.0485, 0.1142, 0.0359, 0.1200, 0.2831,\n",
       "          0.1138],\n",
       "         [0.0615, 0.1774, 0.0206, 0.1283, 0.0606, 0.0967, 0.0348, 0.1200, 0.3217,\n",
       "          0.1270],\n",
       "         [0.0615, 0.1774, 0.0144, 0.1096, 0.0485, 0.1032, 0.0381, 0.1000, 0.3477,\n",
       "          0.1217],\n",
       "         [0.0615, 0.1774, 0.0092, 0.0578, 0.0265, 0.1037, 0.0364, 0.0900, 0.4057,\n",
       "          0.1138],\n",
       "         [0.0507, 0.2114, 0.0082, 0.0521, 0.0239, 0.0942, 0.0348, 0.0900, 0.4287,\n",
       "          0.0847]], device='cuda:0'),\n",
       " tensor([0.0507, 0.2114, 0.0062, 0.0490, 0.0211, 0.0922, 0.0364, 0.1000, 0.4647,\n",
       "         0.0688], device='cuda:0'))"
      ]
     },
     "metadata": {},
     "execution_count": 20
    }
   ],
   "source": [
    "from sklearn.metrics import mean_squared_error, r2_score, mean_absolute_error\n",
    "\n",
    "test_data_tensor = torch.FloatTensor(test_data.values).view(-1,10).to(device)\n",
    "\n",
    "test_inout_seq = create_inout_sequences(test_data_tensor, 16)\n",
    "test_inout_seq[0]\n"
   ]
  },
  {
   "cell_type": "code",
   "execution_count": 21,
   "metadata": {},
   "outputs": [
    {
     "output_type": "execute_result",
     "data": {
      "text/plain": [
       "tensor([[0.0658, 0.1263, 0.0094, 0.0952, 0.0395, 0.0962, 0.0304, 0.1000, 0.1371,\n",
       "         0.0741],\n",
       "        [0.0658, 0.1263, 0.0096, 0.0924, 0.0387, 0.0967, 0.0331, 0.1000, 0.1381,\n",
       "         0.0741],\n",
       "        [0.0658, 0.1263, 0.0098, 0.0815, 0.0351, 0.0962, 0.0387, 0.1000, 0.1381,\n",
       "         0.0794],\n",
       "        [0.0593, 0.1513, 0.0110, 0.0871, 0.0381, 0.0982, 0.0447, 0.1000, 0.1311,\n",
       "         0.0899],\n",
       "        [0.0593, 0.1513, 0.0172, 0.0871, 0.0431, 0.1017, 0.0414, 0.1100, 0.1286,\n",
       "         0.0926],\n",
       "        [0.0593, 0.1513, 0.0128, 0.0884, 0.0399, 0.1122, 0.0409, 0.1100, 0.1576,\n",
       "         0.0952],\n",
       "        [0.0593, 0.1513, 0.0124, 0.0902, 0.0401, 0.1181, 0.0375, 0.1100, 0.1746,\n",
       "         0.1111],\n",
       "        [0.0626, 0.1503, 0.0118, 0.0974, 0.0423, 0.1181, 0.0375, 0.1100, 0.1896,\n",
       "         0.1164],\n",
       "        [0.0626, 0.1503, 0.0174, 0.1140, 0.0525, 0.1171, 0.0370, 0.1200, 0.1801,\n",
       "         0.1164],\n",
       "        [0.0626, 0.1503, 0.0286, 0.1146, 0.0618, 0.1142, 0.0359, 0.1200, 0.2021,\n",
       "         0.1111],\n",
       "        [0.0626, 0.1503, 0.0116, 0.1249, 0.0515, 0.1171, 0.0370, 0.1200, 0.2571,\n",
       "         0.1190],\n",
       "        [0.0615, 0.1774, 0.0170, 0.1033, 0.0485, 0.1142, 0.0359, 0.1200, 0.2831,\n",
       "         0.1138],\n",
       "        [0.0615, 0.1774, 0.0206, 0.1283, 0.0606, 0.0967, 0.0348, 0.1200, 0.3217,\n",
       "         0.1270],\n",
       "        [0.0615, 0.1774, 0.0144, 0.1096, 0.0485, 0.1032, 0.0381, 0.1000, 0.3477,\n",
       "         0.1217],\n",
       "        [0.0615, 0.1774, 0.0092, 0.0578, 0.0265, 0.1037, 0.0364, 0.0900, 0.4057,\n",
       "         0.1138],\n",
       "        [0.0507, 0.2114, 0.0082, 0.0521, 0.0239, 0.0942, 0.0348, 0.0900, 0.4287,\n",
       "         0.0847]], device='cuda:0')"
      ]
     },
     "metadata": {},
     "execution_count": 21
    }
   ],
   "source": [
    "test_inout_seq[0][0]"
   ]
  },
  {
   "cell_type": "code",
   "execution_count": null,
   "metadata": {},
   "outputs": [],
   "source": [
    "y_pred = model()"
   ]
  }
 ]
}